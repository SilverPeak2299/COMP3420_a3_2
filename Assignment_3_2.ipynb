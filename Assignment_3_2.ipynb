{
  "cells": [
    {
      "cell_type": "markdown",
      "metadata": {
        "id": "avv3G855AKlJ"
      },
      "source": [
        "# Assignment 3 Part 2 - Wiki Question Answering\n",
        "\n",
        "**Submission deadline:** Friday 30 May 2025, 11:55 pm\n",
        "\n",
        "**Marks:** 20 marks (20% of the total unit assessment)\n",
        "\n",
        "Unless a Special Consideration request has been submitted and approved, a 5% penalty (of the total possible mark of the task) will be applied for each day a written report or presentation assessment is not submitted, up until the 7th day (including weekends). After the 7th day, a grade of ‘0’ will be awarded even if the assessment is submitted. For example, if the assignment is worth 8 marks (of the entire unit) and your submission is late by 19 hours (or 23 hours 59 minutes 59 seconds), 0.4 marks (5% of 8 marks) will be deducted. If your submission is late by 24 hours (or 47 hours 59 minutes 59 seconds), 0.8 marks (10% of 8 marks) will be deducted, and so on. The submission time for all uploaded assessments is 11:55 pm. A 1-hour grace period will be provided to students who experience a technical concern. For any late submission of time-sensitive tasks, such as scheduled tests/exams, performance assessments/presentations, and/or scheduled practical assessments/labs, please apply for Special Consideration.\n",
        "\n",
        "\n",
        "## A Note on the Use of AI Generators\n",
        "\n",
        "In this assignment, we view AI code generators such as Copilot, CodeGPT, etc. as tools that can help you write code quickly. You are allowed to use these tools, but with some conditions. To understand what you can and cannot do, please visit these information pages provided by Macquarie University:\n",
        "\n",
        "Artificial Intelligence Tools and Academic Integrity in FSE - https://bit.ly/3uxgQP4\n",
        "\n",
        "If you choose to use these tools, make the following explicit in your submitted file as comments starting with \"Use of AI generators in this assignment\" explaining:\n",
        "\n",
        "-   What part of your code is based on the output of such tools,\n",
        "-   What tools you used,\n",
        "-   What prompts you used to generate the code or text, and\n",
        "-   What modifications you made on the generated code or text.\n",
        "\n",
        "This will help us assess your work fairly. If we observe that you have used an AI generator and you do not give the above information, you may face disciplinary action.\n",
        "\n",
        "## Objectives of This Assignment\n",
        "\n",
        "<!-- In Assignment 3 you will work on a general answer selection task. Given a question and a list of candidate sentences, the goal is to predict which sentences can be used as part of the answer. Assignment 3 Part 2 requires you to implement deep neural networks. -->\n",
        "\n",
        "In this assignment, you will work on the answer selection task using the WikiQA corpus. Given a question and a list of candidate sentences, the goal is to predict which sentences can be used to form a correct answer.  This assignment requires you to implement and evaluate a traditional text classification method (Naive Bayes) as well as deep neural networks (Siamese Network and Transformer models).\n",
        "\n",
        "\n",
        "\n",
        "The dataset is the **Wiki Question Answering corpus from Microsoft**. The provided files (`training.csv`, `dev_test.csv`, `test.csv` in `data.zip`) contain the following columns:\n",
        "\n",
        "-   `question_id`: ID for a question\n",
        "-   `question`: Text of the question\n",
        "-   `document_title`: Topic of the question\n",
        "-   `answer`: Sentence candidate for the answer\n",
        "-   `label`: 1 if the sentence is part of the answer, 0 otherwise\n",
        "\n",
        "The following code shows how to load and preview the data:"
      ]
    },
    {
      "cell_type": "code",
      "execution_count": 3,
      "metadata": {
        "colab": {
          "base_uri": "https://localhost:8080/",
          "height": 206
        },
        "id": "YwIwvzV0ALBI",
        "outputId": "0d7563a1-4779-48de-a97b-188ff4daca85"
      },
      "outputs": [
        {
          "data": {
            "application/vnd.microsoft.datawrangler.viewer.v0+json": {
              "columns": [
                {
                  "name": "index",
                  "rawType": "int64",
                  "type": "integer"
                },
                {
                  "name": "question_id",
                  "rawType": "object",
                  "type": "string"
                },
                {
                  "name": "question",
                  "rawType": "object",
                  "type": "string"
                },
                {
                  "name": "document_title",
                  "rawType": "object",
                  "type": "string"
                },
                {
                  "name": "answer",
                  "rawType": "object",
                  "type": "string"
                },
                {
                  "name": "label",
                  "rawType": "int64",
                  "type": "integer"
                }
              ],
              "ref": "b1f09d1b-3774-4458-b52e-2702fdc59253",
              "rows": [
                [
                  "0",
                  "Q1",
                  "how are glacier caves formed?",
                  "Glacier cave",
                  "A partly submerged glacier cave on Perito Moreno Glacier .",
                  "0"
                ],
                [
                  "1",
                  "Q1",
                  "how are glacier caves formed?",
                  "Glacier cave",
                  "The ice facade is approximately 60 m high",
                  "0"
                ],
                [
                  "2",
                  "Q1",
                  "how are glacier caves formed?",
                  "Glacier cave",
                  "Ice formations in the Titlis glacier cave",
                  "0"
                ],
                [
                  "3",
                  "Q1",
                  "how are glacier caves formed?",
                  "Glacier cave",
                  "A glacier cave is a cave formed within the ice of a glacier .",
                  "1"
                ],
                [
                  "4",
                  "Q1",
                  "how are glacier caves formed?",
                  "Glacier cave",
                  "Glacier caves are often called ice caves , but this term is properly used to describe bedrock caves that contain year-round ice.",
                  "0"
                ]
              ],
              "shape": {
                "columns": 5,
                "rows": 5
              }
            },
            "text/html": [
              "<div>\n",
              "<style scoped>\n",
              "    .dataframe tbody tr th:only-of-type {\n",
              "        vertical-align: middle;\n",
              "    }\n",
              "\n",
              "    .dataframe tbody tr th {\n",
              "        vertical-align: top;\n",
              "    }\n",
              "\n",
              "    .dataframe thead th {\n",
              "        text-align: right;\n",
              "    }\n",
              "</style>\n",
              "<table border=\"1\" class=\"dataframe\">\n",
              "  <thead>\n",
              "    <tr style=\"text-align: right;\">\n",
              "      <th></th>\n",
              "      <th>question_id</th>\n",
              "      <th>question</th>\n",
              "      <th>document_title</th>\n",
              "      <th>answer</th>\n",
              "      <th>label</th>\n",
              "    </tr>\n",
              "  </thead>\n",
              "  <tbody>\n",
              "    <tr>\n",
              "      <th>0</th>\n",
              "      <td>Q1</td>\n",
              "      <td>how are glacier caves formed?</td>\n",
              "      <td>Glacier cave</td>\n",
              "      <td>A partly submerged glacier cave on Perito More...</td>\n",
              "      <td>0</td>\n",
              "    </tr>\n",
              "    <tr>\n",
              "      <th>1</th>\n",
              "      <td>Q1</td>\n",
              "      <td>how are glacier caves formed?</td>\n",
              "      <td>Glacier cave</td>\n",
              "      <td>The ice facade is approximately 60 m high</td>\n",
              "      <td>0</td>\n",
              "    </tr>\n",
              "    <tr>\n",
              "      <th>2</th>\n",
              "      <td>Q1</td>\n",
              "      <td>how are glacier caves formed?</td>\n",
              "      <td>Glacier cave</td>\n",
              "      <td>Ice formations in the Titlis glacier cave</td>\n",
              "      <td>0</td>\n",
              "    </tr>\n",
              "    <tr>\n",
              "      <th>3</th>\n",
              "      <td>Q1</td>\n",
              "      <td>how are glacier caves formed?</td>\n",
              "      <td>Glacier cave</td>\n",
              "      <td>A glacier cave is a cave formed within the ice...</td>\n",
              "      <td>1</td>\n",
              "    </tr>\n",
              "    <tr>\n",
              "      <th>4</th>\n",
              "      <td>Q1</td>\n",
              "      <td>how are glacier caves formed?</td>\n",
              "      <td>Glacier cave</td>\n",
              "      <td>Glacier caves are often called ice caves , but...</td>\n",
              "      <td>0</td>\n",
              "    </tr>\n",
              "  </tbody>\n",
              "</table>\n",
              "</div>"
            ],
            "text/plain": [
              "  question_id                       question document_title  \\\n",
              "0          Q1  how are glacier caves formed?   Glacier cave   \n",
              "1          Q1  how are glacier caves formed?   Glacier cave   \n",
              "2          Q1  how are glacier caves formed?   Glacier cave   \n",
              "3          Q1  how are glacier caves formed?   Glacier cave   \n",
              "4          Q1  how are glacier caves formed?   Glacier cave   \n",
              "\n",
              "                                              answer  label  \n",
              "0  A partly submerged glacier cave on Perito More...      0  \n",
              "1          The ice facade is approximately 60 m high      0  \n",
              "2          Ice formations in the Titlis glacier cave      0  \n",
              "3  A glacier cave is a cave formed within the ice...      1  \n",
              "4  Glacier caves are often called ice caves , but...      0  "
            ]
          },
          "execution_count": 3,
          "metadata": {},
          "output_type": "execute_result"
        }
      ],
      "source": [
        "import pandas as pd\n",
        "\n",
        "train_data = pd.read_csv(\"data/training.csv\")\n",
        "dev_data = pd.read_csv(\"data/dev_test.csv\")\n",
        "test_data = pd.read_csv(\"data/test.csv\")\n",
        "train_data.head()\n"
      ]
    },
    {
      "cell_type": "markdown",
      "metadata": {
        "id": "gCvxn37jBiye"
      },
      "source": [
        "## Instructions\n",
        "\n",
        "* Complete the three tasks below.\n",
        "\n",
        "* Write your code inside this notebook.\n",
        "\n",
        "* Your notebook must include the running outputs of your final code.\n",
        "\n",
        "* **Submit this `.ipynb` file, containing your code and outputs, to iLearn.**\n",
        "\n",
        "## Assessment\n",
        "\n",
        "1.  Marks are based on the correctness of your code, outputs, and coding style.\n",
        "<!-- 2.  A total of **1.5 marks** (0.5 per task) are awarded globally across the assignment for good coding style: clean, modular code, meaningful variable names, and good comments. -->\n",
        "3.  Marks for each task focus only on the main implementation, **not on the data loading step**.\n",
        "4.  If outputs are missing or incorrect, up to **25% of the marks for that task** can be deducted.\n",
        "5.  See each task below for the detailed mark breakdown.\n",
        "\n",
        "## Task 1 (4 marks): Query-Focused Text Classification Using Naive Bayes\n",
        "\n",
        "* Preprocess the text data. Feel free to explore and use suitable preprocessing.\n",
        "\n",
        "* Extract features using **CountVectorizer** and **TF-IDF**.\n",
        "\n",
        "* Train and evaluate a **Naive Bayes classifier** on both feature sets.\n",
        "\n",
        "* Report and compare accuracy, precision, recall, and F1-score.\n",
        "\n",
        "**Mark breakdown:**\n",
        "\n",
        "\n",
        "* (2 marks) Correct implementation: preprocessing, feature extraction, training Naive Bayes models.\n",
        "\n",
        "* (1.5 marks) Proper evaluation: accuracy, precision, recall, F1-score + discussion of results.\n",
        "\n",
        "* (0.5 mark) Good coding style: clean, modular, clear variables, comments.\n",
        "\n",
        "<!-- * (0.5 mark) Preprocessing and feature extraction.\n",
        "\n",
        "* (1 mark) Training Naive Bayes on CountVectorizer and TF-IDF features.\n",
        "\n",
        "* (1 mark) Evaluation on the test set with proper metrics.\n",
        "\n",
        "* (1 mark) Brief discussion on which feature set performed better and why.\n",
        "\n",
        "* (0.5 mark) For good coding style: clean, modular code, meaningful variable names, and good comments. -->"
      ]
    },
    {
      "cell_type": "code",
      "execution_count": 4,
      "metadata": {},
      "outputs": [
        {
          "data": {
            "application/vnd.microsoft.datawrangler.viewer.v0+json": {
              "columns": [
                {
                  "name": "index",
                  "rawType": "int64",
                  "type": "integer"
                },
                {
                  "name": "question_id",
                  "rawType": "object",
                  "type": "string"
                },
                {
                  "name": "question",
                  "rawType": "object",
                  "type": "string"
                },
                {
                  "name": "document_title",
                  "rawType": "object",
                  "type": "string"
                },
                {
                  "name": "answer",
                  "rawType": "object",
                  "type": "string"
                },
                {
                  "name": "label",
                  "rawType": "int64",
                  "type": "integer"
                }
              ],
              "ref": "bced22c7-e8d0-4177-ae32-c9c91d8e062e",
              "rows": [
                [
                  "16938",
                  "Q2485",
                  "who was the foreman in gone with the wind",
                  "Gone with the Wind",
                  "Mitchell received the Pulitzer Prize for Fiction for the book in 1937.",
                  "0"
                ],
                [
                  "12438",
                  "Q1807",
                  "what origin is the name sabotage",
                  "Sabotage",
                  "In a workplace setting, sabotage is the conscious withdrawal of efficiency generally directed at causing some change in workplace conditions.",
                  "0"
                ],
                [
                  "11073",
                  "Q1589",
                  "when Harry met Sally case",
                  "When Harry Met Sally...",
                  "In early 2004, the film was adapted for the stage in a production starring Luke Perry and Alyson Hannigan .",
                  "0"
                ],
                [
                  "19501",
                  "Q2899",
                  "what is the defensive line in football called",
                  "American football positions",
                  "This has resulted in the development of three \"platoons\" of players, the offense (the team with the ball, who is trying to score), the defense (the team trying to prevent the other team from scoring, and to take the ball from them), and the special teams (who play in kicking situations).",
                  "0"
                ],
                [
                  "10828",
                  "Q1548",
                  "who created the tourbillon movement?",
                  "Tourbillon",
                  "Originally an attempt to improve accuracy, tourbillons are still included in some expensive modern watches as a novelty and demonstration of watchmaking virtuosity.",
                  "0"
                ],
                [
                  "2528",
                  "Q353",
                  "what does coca cola do for nausea/vomiting",
                  "Coca-Cola",
                  "It is produced by The Coca-Cola Company of Atlanta , Georgia , and is often referred to simply as Coke (a registered trademark of The Coca-Cola Company in the United States since March 27, 1944).",
                  "0"
                ],
                [
                  "9901",
                  "Q1396",
                  "what are some animals in a tigers environment",
                  "Tiger",
                  "They have featured prominently in ancient mythology and folklore , and continue to be depicted in modern films and literature.",
                  "0"
                ],
                [
                  "13817",
                  "Q2022",
                  "When was the first Mary Poppins book written",
                  "Mary Poppins",
                  "Throughout the Mary Poppins series, which lasted from 1934 to 1988, Mary Shepard was the illustrator and acted as a second author.",
                  "1"
                ],
                [
                  "14549",
                  "Q2126",
                  "who is the current Chief Justice of the U.S. supreme court?",
                  "Chief Justice of the United States",
                  "The Chief Justice also has significant agenda-setting power over the court's meetings.",
                  "0"
                ],
                [
                  "15352",
                  "Q2250",
                  "what is vitamin a for",
                  "Vitamin A",
                  "Vitamin A has multiple functions, it is important for growth and development, for the maintenance of the immune system and good vision.",
                  "1"
                ]
              ],
              "shape": {
                "columns": 5,
                "rows": 10
              }
            },
            "text/html": [
              "<div>\n",
              "<style scoped>\n",
              "    .dataframe tbody tr th:only-of-type {\n",
              "        vertical-align: middle;\n",
              "    }\n",
              "\n",
              "    .dataframe tbody tr th {\n",
              "        vertical-align: top;\n",
              "    }\n",
              "\n",
              "    .dataframe thead th {\n",
              "        text-align: right;\n",
              "    }\n",
              "</style>\n",
              "<table border=\"1\" class=\"dataframe\">\n",
              "  <thead>\n",
              "    <tr style=\"text-align: right;\">\n",
              "      <th></th>\n",
              "      <th>question_id</th>\n",
              "      <th>question</th>\n",
              "      <th>document_title</th>\n",
              "      <th>answer</th>\n",
              "      <th>label</th>\n",
              "    </tr>\n",
              "  </thead>\n",
              "  <tbody>\n",
              "    <tr>\n",
              "      <th>16938</th>\n",
              "      <td>Q2485</td>\n",
              "      <td>who was the foreman in gone with the wind</td>\n",
              "      <td>Gone with the Wind</td>\n",
              "      <td>Mitchell received the Pulitzer Prize for Ficti...</td>\n",
              "      <td>0</td>\n",
              "    </tr>\n",
              "    <tr>\n",
              "      <th>12438</th>\n",
              "      <td>Q1807</td>\n",
              "      <td>what origin is the name sabotage</td>\n",
              "      <td>Sabotage</td>\n",
              "      <td>In a workplace setting, sabotage is the consci...</td>\n",
              "      <td>0</td>\n",
              "    </tr>\n",
              "    <tr>\n",
              "      <th>11073</th>\n",
              "      <td>Q1589</td>\n",
              "      <td>when Harry met Sally case</td>\n",
              "      <td>When Harry Met Sally...</td>\n",
              "      <td>In early 2004, the film was adapted for the st...</td>\n",
              "      <td>0</td>\n",
              "    </tr>\n",
              "    <tr>\n",
              "      <th>19501</th>\n",
              "      <td>Q2899</td>\n",
              "      <td>what is the defensive line in football called</td>\n",
              "      <td>American football positions</td>\n",
              "      <td>This has resulted in the development of three ...</td>\n",
              "      <td>0</td>\n",
              "    </tr>\n",
              "    <tr>\n",
              "      <th>10828</th>\n",
              "      <td>Q1548</td>\n",
              "      <td>who created the tourbillon movement?</td>\n",
              "      <td>Tourbillon</td>\n",
              "      <td>Originally an attempt to improve accuracy, tou...</td>\n",
              "      <td>0</td>\n",
              "    </tr>\n",
              "    <tr>\n",
              "      <th>2528</th>\n",
              "      <td>Q353</td>\n",
              "      <td>what does coca cola do for nausea/vomiting</td>\n",
              "      <td>Coca-Cola</td>\n",
              "      <td>It is produced by The Coca-Cola Company of Atl...</td>\n",
              "      <td>0</td>\n",
              "    </tr>\n",
              "    <tr>\n",
              "      <th>9901</th>\n",
              "      <td>Q1396</td>\n",
              "      <td>what are some animals in a tigers environment</td>\n",
              "      <td>Tiger</td>\n",
              "      <td>They have featured prominently in ancient myth...</td>\n",
              "      <td>0</td>\n",
              "    </tr>\n",
              "    <tr>\n",
              "      <th>13817</th>\n",
              "      <td>Q2022</td>\n",
              "      <td>When was the first Mary Poppins book written</td>\n",
              "      <td>Mary Poppins</td>\n",
              "      <td>Throughout the Mary Poppins series, which last...</td>\n",
              "      <td>1</td>\n",
              "    </tr>\n",
              "    <tr>\n",
              "      <th>14549</th>\n",
              "      <td>Q2126</td>\n",
              "      <td>who is the current Chief Justice of the U.S. s...</td>\n",
              "      <td>Chief Justice of the United States</td>\n",
              "      <td>The Chief Justice also has significant agenda-...</td>\n",
              "      <td>0</td>\n",
              "    </tr>\n",
              "    <tr>\n",
              "      <th>15352</th>\n",
              "      <td>Q2250</td>\n",
              "      <td>what is vitamin a for</td>\n",
              "      <td>Vitamin A</td>\n",
              "      <td>Vitamin A has multiple functions, it is import...</td>\n",
              "      <td>1</td>\n",
              "    </tr>\n",
              "  </tbody>\n",
              "</table>\n",
              "</div>"
            ],
            "text/plain": [
              "      question_id                                           question  \\\n",
              "16938       Q2485          who was the foreman in gone with the wind   \n",
              "12438       Q1807                   what origin is the name sabotage   \n",
              "11073       Q1589                          when Harry met Sally case   \n",
              "19501       Q2899      what is the defensive line in football called   \n",
              "10828       Q1548               who created the tourbillon movement?   \n",
              "2528         Q353         what does coca cola do for nausea/vomiting   \n",
              "9901        Q1396      what are some animals in a tigers environment   \n",
              "13817       Q2022       When was the first Mary Poppins book written   \n",
              "14549       Q2126  who is the current Chief Justice of the U.S. s...   \n",
              "15352       Q2250                              what is vitamin a for   \n",
              "\n",
              "                           document_title  \\\n",
              "16938                  Gone with the Wind   \n",
              "12438                            Sabotage   \n",
              "11073             When Harry Met Sally...   \n",
              "19501         American football positions   \n",
              "10828                          Tourbillon   \n",
              "2528                            Coca-Cola   \n",
              "9901                                Tiger   \n",
              "13817                        Mary Poppins   \n",
              "14549  Chief Justice of the United States   \n",
              "15352                           Vitamin A   \n",
              "\n",
              "                                                  answer  label  \n",
              "16938  Mitchell received the Pulitzer Prize for Ficti...      0  \n",
              "12438  In a workplace setting, sabotage is the consci...      0  \n",
              "11073  In early 2004, the film was adapted for the st...      0  \n",
              "19501  This has resulted in the development of three ...      0  \n",
              "10828  Originally an attempt to improve accuracy, tou...      0  \n",
              "2528   It is produced by The Coca-Cola Company of Atl...      0  \n",
              "9901   They have featured prominently in ancient myth...      0  \n",
              "13817  Throughout the Mary Poppins series, which last...      1  \n",
              "14549  The Chief Justice also has significant agenda-...      0  \n",
              "15352  Vitamin A has multiple functions, it is import...      1  "
            ]
          },
          "execution_count": 4,
          "metadata": {},
          "output_type": "execute_result"
        }
      ],
      "source": [
        "train_data.sample(10)"
      ]
    },
    {
      "cell_type": "markdown",
      "metadata": {},
      "source": [
        "#### Preposesing The texts:\n",
        "I will define a preprosseing function that will do the following,\n",
        "1. Set everything to lower case\n",
        "2. tokenize the questions\n",
        "3. stem the tokens\n",
        "4. remove stopwords\n",
        "5. combine the tokens ready to be returned"
      ]
    },
    {
      "cell_type": "code",
      "execution_count": 5,
      "metadata": {
        "id": "UtekpzwCBjMg"
      },
      "outputs": [
        {
          "name": "stderr",
          "output_type": "stream",
          "text": [
            "[nltk_data] Downloading package stopwords to /Users/danny/nltk_data...\n",
            "[nltk_data]   Package stopwords is already up-to-date!\n",
            "[nltk_data] Downloading package punkt to /Users/danny/nltk_data...\n",
            "[nltk_data]   Package punkt is already up-to-date!\n"
          ]
        }
      ],
      "source": [
        "import nltk\n",
        "from nltk.corpus import stopwords\n",
        "from nltk.tokenize import word_tokenize\n",
        "from nltk.stem import PorterStemmer\n",
        "\n",
        "nltk.download(\"stopwords\")\n",
        "nltk.download(\"punkt\")\n",
        "\n",
        "def preprocess(text):\n",
        "    text = text.lower()\n",
        "    tokens = word_tokenize(text)\n",
        "    stemmer = PorterStemmer()\n",
        "    stop_words = set(stopwords.words('english'))\n",
        "    tokens = [stemmer.stem(word) for word in tokens if word not in stop_words]\n",
        "\n",
        "    return ' '.join(tokens)"
      ]
    },
    {
      "cell_type": "code",
      "execution_count": 6,
      "metadata": {},
      "outputs": [],
      "source": [
        "# Combining the answers and questions when preprosessing to to give context to the model\n",
        "\n",
        "# Preprossesing Training Data\n",
        "train_data[\"to_vectorize\"] = train_data[\"question\"] + train_data[\"answer\"]\n",
        "train_data[\"preprosessed\"] = train_data[\"to_vectorize\"].apply(preprocess)\n",
        "\n",
        "# Preprossesing Testing Data\n",
        "test_data[\"to_vectorize\"] = test_data[\"question\"] + test_data [\"answer\"]\n",
        "test_data[\"preprosessed\"] = test_data[\"to_vectorize\"].apply(preprocess)\n"
      ]
    },
    {
      "cell_type": "markdown",
      "metadata": {},
      "source": [
        "#### Vectorzing the questions + answers"
      ]
    },
    {
      "cell_type": "code",
      "execution_count": 7,
      "metadata": {},
      "outputs": [],
      "source": [
        "from sklearn.feature_extraction.text import CountVectorizer, TfidfVectorizer\n",
        "\n",
        "count_vectorizer = CountVectorizer()\n",
        "tfidf_vectorizer = TfidfVectorizer()\n",
        "\n",
        "# Vectorizing Training Data\n",
        "X_count = count_vectorizer.fit_transform(train_data[\"preprosessed\"])\n",
        "X_tfidf = tfidf_vectorizer.fit_transform(train_data[\"preprosessed\"])\n",
        "y = train_data[\"label\"]\n",
        "\n",
        "#Vecotrizing Testing Data\n",
        "test_count = count_vectorizer.transform(test_data[\"preprosessed\"])\n",
        "test_tfidf = tfidf_vectorizer.transform(test_data[\"preprosessed\"])\n",
        "test_y = test_data[\"label\"]\n",
        "\n",
        "\n"
      ]
    },
    {
      "cell_type": "markdown",
      "metadata": {},
      "source": [
        "#### Training a NB Model"
      ]
    },
    {
      "cell_type": "code",
      "execution_count": 8,
      "metadata": {},
      "outputs": [],
      "source": [
        "from sklearn.naive_bayes import MultinomialNB\n",
        "\n",
        "nb_count = MultinomialNB().fit(X_count, y)\n",
        "nb_tfidf = MultinomialNB().fit(X_tfidf, y)\n",
        "\n"
      ]
    },
    {
      "cell_type": "markdown",
      "metadata": {},
      "source": [
        "#### Testing the Model accuracy"
      ]
    },
    {
      "cell_type": "code",
      "execution_count": 9,
      "metadata": {},
      "outputs": [],
      "source": [
        "from sklearn.metrics import accuracy_score, precision_score, recall_score, f1_score\n",
        "\n",
        "def evaluate(model, X_test, y_test):\n",
        "    preds = model.predict(X_test)\n",
        "    return {\n",
        "        \"accuracy\": accuracy_score(y_test, preds),\n",
        "        \"precision\": precision_score(y_test, preds),\n",
        "        \"recall\": recall_score(y_test, preds),\n",
        "        \"f1\": f1_score(y_test, preds)\n",
        "    }\n",
        "\n",
        "def print_eval(name:str, eval: dict):\n",
        "    print(f\"Evaluation for {name}: \")\n",
        "    for key, item in eval.items():\n",
        "        print(f\"{key}: {item}\")"
      ]
    },
    {
      "cell_type": "code",
      "execution_count": 10,
      "metadata": {},
      "outputs": [
        {
          "name": "stdout",
          "output_type": "stream",
          "text": [
            "Evaluation for nb_count: \n",
            "accuracy: 0.9493917274939173\n",
            "precision: 0.1724137931034483\n",
            "recall: 0.017064846416382253\n",
            "f1: 0.031055900621118012\n",
            "\n",
            "\n",
            "Evaluation for nb_tfidf: \n",
            "accuracy: 0.9524736415247365\n",
            "precision: 0.0\n",
            "recall: 0.0\n",
            "f1: 0.0\n"
          ]
        },
        {
          "name": "stderr",
          "output_type": "stream",
          "text": [
            "/Users/danny/Documents/UNI/COMP3420/COMP3420_a3_2/.venv/lib/python3.12/site-packages/sklearn/metrics/_classification.py:1565: UndefinedMetricWarning: Precision is ill-defined and being set to 0.0 due to no predicted samples. Use `zero_division` parameter to control this behavior.\n",
            "  _warn_prf(average, modifier, f\"{metric.capitalize()} is\", len(result))\n"
          ]
        }
      ],
      "source": [
        "print_eval(\"nb_count\", evaluate(nb_count, test_count, test_y))\n",
        "print(\"\\n\")\n",
        "print_eval(\"nb_tfidf\", evaluate(nb_tfidf, test_tfidf, test_y))"
      ]
    },
    {
      "cell_type": "markdown",
      "metadata": {},
      "source": [
        "### Task 1 Analysys\n",
        "\n",
        "While the tfidf approach provided a better accuracy it was still outperformed by the count model. The TFIDF became ultra conservative influenced by the ratio of false answers to true answers and never guessed a positive result, as indicatied by zero scores on precision, recall and f1. it was just as effective as a model in the form\n",
        "\n",
        "```python\n",
        "def model(inputs: list):\n",
        "    return [0 for _ in inputs]\n",
        "```\n",
        "\n",
        "In contrast, the count model attempted to predict some positive cases. Although it had a slight drop in accuracy, it achieved non-zero precision and recall and f1. It did still perform poorly; likely due to class imbalance. It has at least some capability to identify positive samples, making it more useful than the TF-IDF version."
      ]
    },
    {
      "cell_type": "markdown",
      "metadata": {
        "id": "6HxonZ2qFzNm"
      },
      "source": [
        "## Task 2 (6 marks): Siamese Neural Network with Contrastive Loss (PyTorch)\n",
        "\n",
        "This task involves two stages: first learning sentence embeddings using contrastive loss, and then using these embeddings for classification.\n",
        "\n",
        "### Task 2a: Learning Embeddings with Contrastive Loss\n",
        "\n",
        "* Preprocess question-answer pairs (e.g., TF-IDF or embeddings).\n",
        "\n",
        "* Implement a Siamese Network in PyTorch:\n",
        "    * The network should take the preprocessed question and answer representations as input.\n",
        "  \n",
        "    * Each branch of the Siamese network should contain two hidden layers with ReLU activation. (hidden layer size chosen from {64, 128, 256})\n",
        "  \n",
        "    * Use Euclidean-distance-based contrastive loss, use a margin value of m=1.\n",
        "  \n",
        "    * The network should output an embedding vector (the output of the second hidden layer) for the question and the answer.\n",
        "\n",
        "* Train the model and evaluate on the test set.\n",
        "\n",
        "*Note: Save the best performing model to be reused in Task 2b*\n",
        "\n",
        "### Task 2b: Classification using Learned Embeddings\n",
        "\n",
        "* Load the weights of the best performing Siamese network model saved from Task 2a. Freeze the weights of the shared Siamese branches (i.e., the hidden layers) so they are not updated during this stage.\n",
        "\n",
        "* Build Classifier Head in PyTorch:\n",
        "    * Pass the question and answer representations through their respective frozen branches to obtain their learned embeddings from Task 2a.\n",
        "\n",
        "    * Calculate the Euclidean distance between the question embedding and the answer embedding.\n",
        "\n",
        "    * Add a final classification output layer: Pass the calculated distance through a simple trainable layer (e.g., a Dense layer with 1 unit) followed by a Sigmoid activation function. This will output a value between 0 and 1, representing the predicted probability of the pair being related.\n",
        "\n",
        "* Train the model and evaluate on the test set with Binary Cross-Entropy (BCE) loss.\n",
        "\n",
        "* Report the accuracy and provide at least one failure case analysis, with supporting code output.\n",
        "\n",
        "**Mark breakdown:**\n",
        "\n",
        "* (3 marks) Correct implementation: Siamese NN architecture, contrastive loss, classification head setup.\n",
        "\n",
        "* (2.5 marks) Proper evaluation: training/evaluation correctness, metric reporting, failure case analysis.\n",
        "\n",
        "* (0.5 mark) Good coding style: : clean, modular code, meaningful variable names, and good comments.\n",
        "\n",
        "<!-- * (1 mark) Correct Siamese NN architecture and contrastive loss.\n",
        "\n",
        "* (1 mark) SNN training setup and data feeding.\n",
        "\n",
        "* (1 mark) Correctly loading the pre-trained model, freezing the appropriate layers, and constructing the classification architecture.\n",
        "\n",
        "* (1 mark) Correct training/evaluation setup using Binary Cross-Entropy loss.\n",
        "\n",
        "* (0.5 mark) Proper evaluation and accuracy reporting.\n",
        "\n",
        "* (1 mark) Example of a failure case, possible reason, and suggested improvement.\n",
        "\n",
        "* (0.5 mark) For good coding style: clean, modular code, meaningful variable names, and good comments. -->"
      ]
    },
    {
      "cell_type": "code",
      "execution_count": 11,
      "metadata": {
        "id": "pIbUH_NTBuO0"
      },
      "outputs": [],
      "source": [
        "import torch\n",
        "import torch.nn as nn\n",
        "import torch.optim as optim\n",
        "from torch.utils.data import Dataset, DataLoader\n",
        "from tqdm import tqdm\n"
      ]
    },
    {
      "cell_type": "markdown",
      "metadata": {},
      "source": [
        "### Preprosessing and Vectorizing Questions Plus Answers\n",
        "Note: I am using the preprosessed data from the previous section."
      ]
    },
    {
      "cell_type": "code",
      "execution_count": null,
      "metadata": {},
      "outputs": [],
      "source": [
        "# Fitting the vectorizer on the previous preprosessed data\n",
        "tfidf_vectorizer.fit(train_data[\"preprosessed\"])\n",
        "\n",
        "# Vectorizing Training Data\n",
        "train_data[\"preprocessed_question\"] = train_data[\"question\"].apply(preprocess)\n",
        "train_data[\"preprocessed_answer\"] = train_data[\"answer\"].apply(preprocess)\n",
        "\n",
        "q_train = tfidf_vectorizer.transform(train_data[\"preprocessed_question\"])\n",
        "a_train = tfidf_vectorizer.transform(train_data[\"preprocessed_answer\"])\n",
        "y_train = train_data[\"label\"]\n",
        "\n",
        "# Preprocessing then Vecotrizing DevTest Data\n",
        "dev_data[\"preprocessed_question\"] = dev_data[\"question\"].apply(preprocess)\n",
        "dev_data[\"preprocessed_answer\"] = dev_data[\"answer\"].apply(preprocess)\n",
        "\n",
        "q_dev = tfidf_vectorizer.transform(dev_data[\"preprocessed_question\"])\n",
        "a_dev = tfidf_vectorizer.transform(dev_data[\"preprocessed_answer\"])\n",
        "y_dev = dev_data[\"label\"]\n",
        "\n",
        "#Vecotrizing Testing Data\n",
        "test_data[\"preprocessed_question\"] = test_data[\"question\"].apply(preprocess)\n",
        "test_data[\"preprocessed_answer\"] = test_data[\"answer\"].apply(preprocess)\n",
        "\n",
        "q_test = tfidf_vectorizer.transform(test_data[\"preprocessed_question\"])\n",
        "a_test = tfidf_vectorizer.transform(test_data[\"preprocessed_answer\"])\n",
        "y_test = test_data[\"label\"]\n"
      ]
    },
    {
      "cell_type": "markdown",
      "metadata": {},
      "source": [
        "### Defining DataSet Class"
      ]
    },
    {
      "cell_type": "code",
      "execution_count": 19,
      "metadata": {},
      "outputs": [],
      "source": [
        "class SiameseDataset(Dataset):\n",
        "    def __init__(self, questions, answers, labels):\n",
        "        self.questions = questions\n",
        "        self.answers = answers\n",
        "        self.labels = labels\n",
        "\n",
        "    def __len__(self):\n",
        "        return len(self.labels)\n",
        "\n",
        "    def __getitem__(self, idx):\n",
        "        q = self.questions[idx].toarray().squeeze()\n",
        "        a = self.answers[idx].toarray().squeeze()\n",
        "        y = self.labels.iloc[idx]  # using .iloc for pandas Series\n",
        "        return (\n",
        "            torch.tensor(q, dtype=torch.float32),\n",
        "            torch.tensor(a, dtype=torch.float32),\n",
        "            torch.tensor(y, dtype=torch.float32),\n",
        "        )"
      ]
    },
    {
      "cell_type": "markdown",
      "metadata": {},
      "source": [
        "### Creating the Datasets and DataLoaders"
      ]
    },
    {
      "cell_type": "code",
      "execution_count": 20,
      "metadata": {},
      "outputs": [],
      "source": [
        "train_dataset = SiameseDataset(q_train, a_train, y_train)\n",
        "dev_dataset = SiameseDataset(q_dev, a_dev, y_dev)\n",
        "test_dataset = SiameseDataset(q_test, a_test, y_test)\n",
        "\n",
        "train_loader = DataLoader(train_dataset, batch_size=32, shuffle=True)\n",
        "dev_loader = DataLoader(dev_dataset, batch_size=32)\n",
        "test_loader = DataLoader(test_dataset, batch_size=32)"
      ]
    },
    {
      "cell_type": "markdown",
      "metadata": {},
      "source": [
        "### Defining the NN model"
      ]
    },
    {
      "cell_type": "code",
      "execution_count": 21,
      "metadata": {},
      "outputs": [],
      "source": [
        "class SiameseNetwork(nn.Module):\n",
        "    def __init__(self, input_dim, hidden_size=128):\n",
        "        super(SiameseNetwork, self).__init__()\n",
        "        self.fc1 = nn.Linear(input_dim, hidden_size)\n",
        "        self.relu = nn.ReLU()\n",
        "        self.fc2 = nn.Linear(hidden_size, hidden_size)\n",
        "\n",
        "    def forward_once(self, x):\n",
        "        x = self.relu(self.fc1(x))\n",
        "        x = self.fc2(x)\n",
        "        return x\n",
        "\n",
        "    def forward(self, q, a):\n",
        "        q_embed = self.forward_once(q)\n",
        "        a_embed = self.forward_once(a)\n",
        "        return q_embed, a_embed"
      ]
    },
    {
      "cell_type": "markdown",
      "metadata": {},
      "source": [
        "### Defining Loss Function"
      ]
    },
    {
      "cell_type": "code",
      "execution_count": 24,
      "metadata": {},
      "outputs": [],
      "source": [
        "class ContrastiveLoss(nn.Module):\n",
        "    def __init__(self, margin=1.0):\n",
        "        super().__init__()\n",
        "        self.margin = margin\n",
        "\n",
        "    def forward(self, distance, label):\n",
        "        if label.dim() == 1:\n",
        "            label = label.unsqueeze(1)\n",
        "        \n",
        "        square_pred = torch.square(distance)\n",
        "        margin_square = torch.square(torch.clamp(self.margin - distance, min=0.0))\n",
        "        \n",
        "        loss = label * 0.5 * square_pred + (1 - label) * 0.5 * margin_square\n",
        "        return torch.mean(loss)"
      ]
    },
    {
      "cell_type": "markdown",
      "metadata": {},
      "source": [
        "### Defining Training Function"
      ]
    },
    {
      "cell_type": "code",
      "execution_count": 36,
      "metadata": {},
      "outputs": [],
      "source": [
        "def train_siamese_epoch(model, iterator, optimizer, criterion, device):\n",
        "    epoch_loss = 0\n",
        "    model.train()\n",
        "\n",
        "    for batch in tqdm(iterator, total=len(iterator)):\n",
        "        q, a, labels = batch\n",
        "        q = q.to(device)\n",
        "        a = a.to(device)\n",
        "        labels = labels.to(device)\n",
        "\n",
        "        optimizer.zero_grad()\n",
        "        q_embed, a_embed = model(q, a)\n",
        "        distance = torch.norm(q_embed - a_embed, dim=1, keepdim=True)\n",
        "        \n",
        "        loss = criterion(distance, labels)\n",
        "\n",
        "        loss.backward()\n",
        "        optimizer.step()\n",
        "\n",
        "        epoch_loss += loss.item()\n",
        "\n",
        "    return epoch_loss / len(iterator)"
      ]
    },
    {
      "cell_type": "markdown",
      "metadata": {},
      "source": [
        "### Defining Evaluation Function"
      ]
    },
    {
      "cell_type": "code",
      "execution_count": 38,
      "metadata": {},
      "outputs": [],
      "source": [
        "def evaluate_siamese_epoch(model, iterator, criterion, device):\n",
        "    epoch_loss = 0\n",
        "    model.eval()\n",
        "\n",
        "    with torch.no_grad():\n",
        "        for batch in tqdm(iterator, total=len(iterator)):\n",
        "            q, a, labels = batch\n",
        "            q = q.to(device)\n",
        "            a = a.to(device)\n",
        "            labels = labels.to(device)\n",
        "\n",
        "            q_embed, a_embed = model(q, a)\n",
        "            distance = torch.norm(q_embed - a_embed, dim=1, keepdim=True)\n",
        "            loss = criterion(distance, labels)\n",
        "\n",
        "            epoch_loss += loss.item()\n",
        "\n",
        "    return epoch_loss / len(iterator)"
      ]
    },
    {
      "cell_type": "markdown",
      "metadata": {},
      "source": [
        "### Training The Model"
      ]
    },
    {
      "cell_type": "code",
      "execution_count": 41,
      "metadata": {},
      "outputs": [
        {
          "name": "stdout",
          "output_type": "stream",
          "text": [
            "Training Epoch\n"
          ]
        },
        {
          "name": "stderr",
          "output_type": "stream",
          "text": [
            "100%|██████████| 637/637 [00:05<00:00, 108.50it/s]\n"
          ]
        },
        {
          "name": "stdout",
          "output_type": "stream",
          "text": [
            "Evaluating Epoch\n"
          ]
        },
        {
          "name": "stderr",
          "output_type": "stream",
          "text": [
            "100%|██████████| 86/86 [00:00<00:00, 267.14it/s]\n"
          ]
        },
        {
          "name": "stdout",
          "output_type": "stream",
          "text": [
            "Epoch 0: Epoch Loss 0.08453081660206595, dev_test loss 0.0574406904038475\n",
            "Training Epoch\n"
          ]
        },
        {
          "name": "stderr",
          "output_type": "stream",
          "text": [
            "100%|██████████| 637/637 [00:05<00:00, 110.39it/s]\n"
          ]
        },
        {
          "name": "stdout",
          "output_type": "stream",
          "text": [
            "Evaluating Epoch\n"
          ]
        },
        {
          "name": "stderr",
          "output_type": "stream",
          "text": [
            "100%|██████████| 86/86 [00:00<00:00, 245.42it/s]\n"
          ]
        },
        {
          "name": "stdout",
          "output_type": "stream",
          "text": [
            "Epoch 1: Epoch Loss 0.015284266852591153, dev_test loss 0.051623351536258015\n",
            "Training Epoch\n"
          ]
        },
        {
          "name": "stderr",
          "output_type": "stream",
          "text": [
            "100%|██████████| 637/637 [00:06<00:00, 105.59it/s]\n"
          ]
        },
        {
          "name": "stdout",
          "output_type": "stream",
          "text": [
            "Evaluating Epoch\n"
          ]
        },
        {
          "name": "stderr",
          "output_type": "stream",
          "text": [
            "100%|██████████| 86/86 [00:00<00:00, 238.31it/s]\n"
          ]
        },
        {
          "name": "stdout",
          "output_type": "stream",
          "text": [
            "Epoch 2: Epoch Loss 0.005551334684936709, dev_test loss 0.049704474277880994\n",
            "Training Epoch\n"
          ]
        },
        {
          "name": "stderr",
          "output_type": "stream",
          "text": [
            "100%|██████████| 637/637 [00:06<00:00, 103.46it/s]\n"
          ]
        },
        {
          "name": "stdout",
          "output_type": "stream",
          "text": [
            "Evaluating Epoch\n"
          ]
        },
        {
          "name": "stderr",
          "output_type": "stream",
          "text": [
            "100%|██████████| 86/86 [00:00<00:00, 230.61it/s]\n"
          ]
        },
        {
          "name": "stdout",
          "output_type": "stream",
          "text": [
            "Epoch 3: Epoch Loss 0.003442525419452863, dev_test loss 0.04943133883589749\n",
            "Training Epoch\n"
          ]
        },
        {
          "name": "stderr",
          "output_type": "stream",
          "text": [
            "100%|██████████| 637/637 [00:06<00:00, 103.77it/s]\n"
          ]
        },
        {
          "name": "stdout",
          "output_type": "stream",
          "text": [
            "Evaluating Epoch\n"
          ]
        },
        {
          "name": "stderr",
          "output_type": "stream",
          "text": [
            "100%|██████████| 86/86 [00:00<00:00, 248.76it/s]\n"
          ]
        },
        {
          "name": "stdout",
          "output_type": "stream",
          "text": [
            "Epoch 4: Epoch Loss 0.0033312816403271617, dev_test loss 0.04992388076213903\n",
            "Training Epoch\n"
          ]
        },
        {
          "name": "stderr",
          "output_type": "stream",
          "text": [
            "100%|██████████| 637/637 [00:06<00:00, 103.80it/s]\n"
          ]
        },
        {
          "name": "stdout",
          "output_type": "stream",
          "text": [
            "Evaluating Epoch\n"
          ]
        },
        {
          "name": "stderr",
          "output_type": "stream",
          "text": [
            "100%|██████████| 86/86 [00:00<00:00, 243.39it/s]\n"
          ]
        },
        {
          "name": "stdout",
          "output_type": "stream",
          "text": [
            "Epoch 5: Epoch Loss 0.0032628393228297937, dev_test loss 0.050308516097449976\n",
            "Training Epoch\n"
          ]
        },
        {
          "name": "stderr",
          "output_type": "stream",
          "text": [
            "100%|██████████| 637/637 [00:06<00:00, 104.11it/s]\n"
          ]
        },
        {
          "name": "stdout",
          "output_type": "stream",
          "text": [
            "Evaluating Epoch\n"
          ]
        },
        {
          "name": "stderr",
          "output_type": "stream",
          "text": [
            "100%|██████████| 86/86 [00:00<00:00, 257.36it/s]\n"
          ]
        },
        {
          "name": "stdout",
          "output_type": "stream",
          "text": [
            "Epoch 6: Epoch Loss 0.0029854697030453022, dev_test loss 0.04951492123045893\n",
            "Training Epoch\n"
          ]
        },
        {
          "name": "stderr",
          "output_type": "stream",
          "text": [
            "100%|██████████| 637/637 [00:05<00:00, 108.37it/s]\n"
          ]
        },
        {
          "name": "stdout",
          "output_type": "stream",
          "text": [
            "Evaluating Epoch\n"
          ]
        },
        {
          "name": "stderr",
          "output_type": "stream",
          "text": [
            "100%|██████████| 86/86 [00:00<00:00, 262.11it/s]\n"
          ]
        },
        {
          "name": "stdout",
          "output_type": "stream",
          "text": [
            "Epoch 7: Epoch Loss 0.002634812833937606, dev_test loss 0.048596411331578396\n",
            "Training Epoch\n"
          ]
        },
        {
          "name": "stderr",
          "output_type": "stream",
          "text": [
            "100%|██████████| 637/637 [00:05<00:00, 108.40it/s]\n"
          ]
        },
        {
          "name": "stdout",
          "output_type": "stream",
          "text": [
            "Evaluating Epoch\n"
          ]
        },
        {
          "name": "stderr",
          "output_type": "stream",
          "text": [
            "100%|██████████| 86/86 [00:00<00:00, 236.84it/s]\n"
          ]
        },
        {
          "name": "stdout",
          "output_type": "stream",
          "text": [
            "Epoch 8: Epoch Loss 0.0024439405079742676, dev_test loss 0.04888522268142984\n",
            "Training Epoch\n"
          ]
        },
        {
          "name": "stderr",
          "output_type": "stream",
          "text": [
            "100%|██████████| 637/637 [00:06<00:00, 105.75it/s]\n"
          ]
        },
        {
          "name": "stdout",
          "output_type": "stream",
          "text": [
            "Evaluating Epoch\n"
          ]
        },
        {
          "name": "stderr",
          "output_type": "stream",
          "text": [
            "100%|██████████| 86/86 [00:00<00:00, 248.67it/s]"
          ]
        },
        {
          "name": "stdout",
          "output_type": "stream",
          "text": [
            "Epoch 9: Epoch Loss 0.0022152313100113254, dev_test loss 0.049196736248166756\n"
          ]
        },
        {
          "name": "stderr",
          "output_type": "stream",
          "text": [
            "\n"
          ]
        }
      ],
      "source": [
        "import math\n",
        "import copy\n",
        "\n",
        "DEVICE = torch.device('cuda' if torch.cuda.is_available() else 'cpu')\n",
        "NO_EPOCHS = 10\n",
        "\n",
        "siamese_model = SiameseNetwork(train_dataset[0][0].shape[0], hidden_size=64).to(DEVICE)\n",
        "contrastive_loss = ContrastiveLoss(margin= 1.0).to(DEVICE)\n",
        "siamese_optimizer = optim.Adam(siamese_model.parameters(), lr= 1e-3)\n",
        "\n",
        "\n",
        "best_model = None\n",
        "best_loss = math.inf\n",
        "train_losses =[]\n",
        "dev_losses = []\n",
        "\n",
        "for i in range(NO_EPOCHS):\n",
        "    print(\"Training Epoch\")\n",
        "    epoch_loss = train_siamese_epoch(\n",
        "        model=siamese_model,\n",
        "        iterator=train_loader,\n",
        "        optimizer=siamese_optimizer,\n",
        "        criterion=contrastive_loss,\n",
        "        device=DEVICE\n",
        "     )\n",
        "    \n",
        "    print(\"Evaluating Epoch\")\n",
        "    dev_loss = evaluate_siamese_epoch(\n",
        "        model=siamese_model,\n",
        "        iterator=dev_loader,\n",
        "        criterion=contrastive_loss,\n",
        "        device=DEVICE\n",
        "    )\n",
        "\n",
        "    train_losses.append(epoch_loss)\n",
        "    dev_losses.append(dev_loss)\n",
        "\n",
        "    print(f\"Epoch {i}: Epoch Loss {epoch_loss}, dev_test loss {dev_loss}\")\n",
        "\n",
        "    if dev_loss < best_loss:\n",
        "        best_loss = dev_loss\n",
        "        best_model = copy.deepcopy(siamese_model.state_dict())\n",
        "\n",
        "\n",
        "    \n"
      ]
    },
    {
      "cell_type": "markdown",
      "metadata": {},
      "source": [
        "### Plotting Training Loss"
      ]
    },
    {
      "cell_type": "code",
      "execution_count": 43,
      "metadata": {},
      "outputs": [
        {
          "data": {
            "image/png": "[encoded data removed]",
            "text/plain": [
              "<Figure size 640x480 with 1 Axes>"
            ]
          },
          "metadata": {},
          "output_type": "display_data"
        }
      ],
      "source": [
        "import matplotlib.pyplot as plt\n",
        "%matplotlib inline\n",
        "\n",
        "plt.plot(train_losses, label='Training Loss')\n",
        "plt.plot(dev_losses, label='DevTest Loss')\n",
        "\n",
        "plt.xlabel('Epoch')\n",
        "plt.ylabel('Loss')\n",
        "plt.title('Training Loss Comparison')\n",
        "plt.legend()\n",
        "plt.grid(True)\n",
        "plt.show()"
      ]
    },
    {
      "cell_type": "markdown",
      "metadata": {
        "id": "mSPdEV5bFzNm"
      },
      "source": [
        "## Task 3 (10 marks): Transformer-Based Sentence Classification (PyTorch)\n",
        "\n",
        "* Preprocess input as: question [SEP] answer, pad to a fixed length (justify your choice of length).\n",
        "\n",
        "* Use a suitable tokenizer (justify your choice).\n",
        "\n",
        "* Build a Transformer model in PyTorch:\n",
        "\n",
        "    * Embedding layer (size 128) + positional embeddings.\n",
        "\n",
        "    * One Transformer encoder layer (hidden dim in {64, 128, 256}, 4 attention heads).\n",
        "\n",
        "    * One hidden layer (256 units, ReLU).\n",
        "\n",
        "    * Use suitable final layer for classification\n",
        "    \n",
        "  \n",
        "* Apply Global Average Pooling to the output sequence of the Transformer encoder layer.\n",
        "  \n",
        "* Use an appropriate loss function (e.g., CrossEntropyLoss).\n",
        "\n",
        "* Train and evaluate on the test split.\n",
        "\n",
        "* Report best accuracy, precision, recall, F1-score, and discuss a failure case, with supporting code output.\n",
        "\n",
        "**Mark breakdown:**\n",
        "\n",
        "* (5 marks) Correct implementation: input preparation, tokenizer, transformer model, training setup.\n",
        "\n",
        "* (4.5 marks) Proper evaluation: metric reporting, failure case analysis with discussion.\n",
        "\n",
        "* (0.5 mark) Good coding style: : clean, modular code, meaningful variable names, and good comments.\n",
        "\n",
        "<!-- * (1.5 marks) Correct input preparation and tokenizer choice (with justification).\n",
        "\n",
        "* (2 marks) Transformer architecture implementation.\n",
        "\n",
        "* (2 marks) Training setup, loss function, and optimizer.\n",
        "\n",
        "* (2 marks) Evaluation and correct metric reporting.\n",
        "\n",
        "* (2 marks) Failure case analysis and suggestions.\n",
        "\n",
        "* (0.5 mark) For good coding style: clean, modular code, meaningful variable names, and good comments. -->\n"
      ]
    },
    {
      "cell_type": "code",
      "execution_count": 13,
      "metadata": {
        "id": "3KvddjdYB1ln"
      },
      "outputs": [],
      "source": [
        "#   Write your code and answers here. You can add more code and markdown cells if needed."
      ]
    },
    {
      "cell_type": "markdown",
      "metadata": {
        "id": "dWRYOTk8B5oB"
      },
      "source": [
        "# Submission\n",
        "\n",
        "Your submission should consist of this Jupyter notebook with all your code and explanations inserted into the notebook as text cells. **The notebook should contain the output of the runs. All code should run. Code with syntax errors or code without output will not be assessed.**\n",
        "\n",
        "**Do not submit multiple files.**\n",
        "\n",
        "Examine the text cells of this notebook so that you can have an idea of how to format text for good visual impact. You can also read this useful [guide to the MarkDown notation](https://daringfireball.net/projects/markdown/syntax),  which explains the format of the text cells."
      ]
    },
    {
      "cell_type": "markdown",
      "metadata": {
        "id": "Gx7RGfmj0QGH"
      },
      "source": [
        "### Marking Rubric\n",
        "\n",
        "| Criteria                          | Unsatisfactory | Pass           | Credit         | Distinction     |\n",
        "|----------------------------------|----------------|----------------|----------------|-----------------|\n",
        "| **Task 1 – Correctness**         | 0 points       | 1 point        | 1.5 points     | 2 points        |\n",
        "| **Task 1 – Evaluation & Discussion** | 0 points   | 0.75 points    | 1 point        | 1.5 points      |\n",
        "| **Task 1 – Code Readability**    | 0 points       | 0.25 points    | 0.4 points     | 0.5 points      |\n",
        "| **Task 2 – Correctness**         | 0 points       | 1.5 points     | 2.5 points     | 3 points        |\n",
        "| **Task 2 – Evaluation & Analysis** | 0 points     | 1.25 points    | 2 points       | 2.5 points      |\n",
        "| **Task 2 – Code Readability**    | 0 points       | 0.25 points    | 0.4 points     | 0.5 points      |\n",
        "| **Task 3 – Correctness**         | 0 points       | 2.5 points     | 4 points       | 5 points        |\n",
        "| **Task 3 – Evaluation & Analysis** | 0 points     | 2.25 points    | 3.5 points     | 4.5 points      |\n",
        "| **Task 3 – Code Readability**    | 0 points       | 0.25 points    | 0.4 points     | 0.5 points      |\n"
      ]
    },
    {
      "cell_type": "markdown",
      "metadata": {
        "id": "pBuHLYX00pUs"
      },
      "source": [
        "### Assessment Criteria Description\n",
        "\n",
        "The following aspects will be considered when marking each task. The total score is based on the level of achievement across these dimensions.\n",
        "\n",
        "#### Correctness\n",
        "How well the main functionality and requirements of the task are implemented.\n",
        "\n",
        "- **Unsatisfactory** – Major components are missing or incorrect.\n",
        "- **Pass** – Some core components are correctly implemented.\n",
        "- **Credit** – Most components are correctly implemented with minor issues.\n",
        "- **Distinction** – All required components are correctly and completely implemented.\n",
        "\n",
        "#### Evaluation & Analysis (where applicable)\n",
        "The quality of evaluation metrics, observations, and insights into the model’s performance.\n",
        "\n",
        "- **Unsatisfactory** – Minimal or no evaluation and discussion.\n",
        "- **Pass** – Basic evaluation is provided, but analysis is shallow.\n",
        "- **Credit** – Good evaluation with meaningful discussion.\n",
        "- **Distinction** – In-depth, insightful analysis and thoughtful observations.\n",
        "\n",
        "#### Code Readability\n",
        "Clarity, structure, and quality of code writing style.\n",
        "\n",
        "- **Unsatisfactory** – Code is difficult to read, poorly structured, and lacks clarity (e.g., meaningless variable names, no comments).\n",
        "- **Pass** – Code is generally readable with some good practices.\n",
        "- **Credit** – Code is clearly readable and mostly well-structured.\n",
        "- **Distinction** – Code is clean, well-organized, and easy to follow; shows excellent style and best practices.\n"
      ]
    },
    {
      "cell_type": "code",
      "execution_count": null,
      "metadata": {
        "id": "rijR3OF9B6AX"
      },
      "outputs": [],
      "source": []
    }
  ],
  "metadata": {
    "colab": {
      "provenance": []
    },
    "kernelspec": {
      "display_name": ".venv",
      "language": "python",
      "name": "python3"
    },
    "language_info": {
      "codemirror_mode": {
        "name": "ipython",
        "version": 3
      },
      "file_extension": ".py",
      "mimetype": "text/x-python",
      "name": "python",
      "nbconvert_exporter": "python",
      "pygments_lexer": "ipython3",
      "version": "3.12.7"
    }
  },
  "nbformat": 4,
  "nbformat_minor": 0
}
