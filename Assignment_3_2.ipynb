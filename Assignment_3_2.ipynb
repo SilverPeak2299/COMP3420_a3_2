{
  "cells": [
    {
      "cell_type": "markdown",
      "metadata": {
        "id": "avv3G855AKlJ"
      },
      "source": [
        "# Assignment 3 Part 2 - Wiki Question Answering\n",
        "\n",
        "**Submission deadline:** Friday 30 May 2025, 11:55 pm\n",
        "\n",
        "**Marks:** 20 marks (20% of the total unit assessment)\n",
        "\n",
        "Unless a Special Consideration request has been submitted and approved, a 5% penalty (of the total possible mark of the task) will be applied for each day a written report or presentation assessment is not submitted, up until the 7th day (including weekends). After the 7th day, a grade of ‘0’ will be awarded even if the assessment is submitted. For example, if the assignment is worth 8 marks (of the entire unit) and your submission is late by 19 hours (or 23 hours 59 minutes 59 seconds), 0.4 marks (5% of 8 marks) will be deducted. If your submission is late by 24 hours (or 47 hours 59 minutes 59 seconds), 0.8 marks (10% of 8 marks) will be deducted, and so on. The submission time for all uploaded assessments is 11:55 pm. A 1-hour grace period will be provided to students who experience a technical concern. For any late submission of time-sensitive tasks, such as scheduled tests/exams, performance assessments/presentations, and/or scheduled practical assessments/labs, please apply for Special Consideration.\n",
        "\n",
        "\n",
        "## A Note on the Use of AI Generators\n",
        "\n",
        "In this assignment, we view AI code generators such as Copilot, CodeGPT, etc. as tools that can help you write code quickly. You are allowed to use these tools, but with some conditions. To understand what you can and cannot do, please visit these information pages provided by Macquarie University:\n",
        "\n",
        "Artificial Intelligence Tools and Academic Integrity in FSE - https://bit.ly/3uxgQP4\n",
        "\n",
        "If you choose to use these tools, make the following explicit in your submitted file as comments starting with \"Use of AI generators in this assignment\" explaining:\n",
        "\n",
        "-   What part of your code is based on the output of such tools,\n",
        "-   What tools you used,\n",
        "-   What prompts you used to generate the code or text, and\n",
        "-   What modifications you made on the generated code or text.\n",
        "\n",
        "This will help us assess your work fairly. If we observe that you have used an AI generator and you do not give the above information, you may face disciplinary action.\n",
        "\n",
        "## Objectives of This Assignment\n",
        "\n",
        "<!-- In Assignment 3 you will work on a general answer selection task. Given a question and a list of candidate sentences, the goal is to predict which sentences can be used as part of the answer. Assignment 3 Part 2 requires you to implement deep neural networks. -->\n",
        "\n",
        "In this assignment, you will work on the answer selection task using the WikiQA corpus. Given a question and a list of candidate sentences, the goal is to predict which sentences can be used to form a correct answer.  This assignment requires you to implement and evaluate a traditional text classification method (Naive Bayes) as well as deep neural networks (Siamese Network and Transformer models).\n",
        "\n",
        "\n",
        "\n",
        "The dataset is the **Wiki Question Answering corpus from Microsoft**. The provided files (`training.csv`, `dev_test.csv`, `test.csv` in `data.zip`) contain the following columns:\n",
        "\n",
        "-   `question_id`: ID for a question\n",
        "-   `question`: Text of the question\n",
        "-   `document_title`: Topic of the question\n",
        "-   `answer`: Sentence candidate for the answer\n",
        "-   `label`: 1 if the sentence is part of the answer, 0 otherwise\n",
        "\n",
        "The following code shows how to load and preview the data:"
      ]
    },
    {
      "cell_type": "code",
      "execution_count": 38,
      "metadata": {
        "colab": {
          "base_uri": "https://localhost:8080/",
          "height": 206
        },
        "id": "YwIwvzV0ALBI",
        "outputId": "0d7563a1-4779-48de-a97b-188ff4daca85"
      },
      "outputs": [
        {
          "data": {
            "application/vnd.microsoft.datawrangler.viewer.v0+json": {
              "columns": [
                {
                  "name": "index",
                  "rawType": "int64",
                  "type": "integer"
                },
                {
                  "name": "question_id",
                  "rawType": "object",
                  "type": "string"
                },
                {
                  "name": "question",
                  "rawType": "object",
                  "type": "string"
                },
                {
                  "name": "document_title",
                  "rawType": "object",
                  "type": "string"
                },
                {
                  "name": "answer",
                  "rawType": "object",
                  "type": "string"
                },
                {
                  "name": "label",
                  "rawType": "int64",
                  "type": "integer"
                }
              ],
              "ref": "6517b105-e7f1-40c4-a719-6e9e98cebd3b",
              "rows": [
                [
                  "0",
                  "Q1",
                  "how are glacier caves formed?",
                  "Glacier cave",
                  "A partly submerged glacier cave on Perito Moreno Glacier .",
                  "0"
                ],
                [
                  "1",
                  "Q1",
                  "how are glacier caves formed?",
                  "Glacier cave",
                  "The ice facade is approximately 60 m high",
                  "0"
                ],
                [
                  "2",
                  "Q1",
                  "how are glacier caves formed?",
                  "Glacier cave",
                  "Ice formations in the Titlis glacier cave",
                  "0"
                ],
                [
                  "3",
                  "Q1",
                  "how are glacier caves formed?",
                  "Glacier cave",
                  "A glacier cave is a cave formed within the ice of a glacier .",
                  "1"
                ],
                [
                  "4",
                  "Q1",
                  "how are glacier caves formed?",
                  "Glacier cave",
                  "Glacier caves are often called ice caves , but this term is properly used to describe bedrock caves that contain year-round ice.",
                  "0"
                ]
              ],
              "shape": {
                "columns": 5,
                "rows": 5
              }
            },
            "text/html": [
              "<div>\n",
              "<style scoped>\n",
              "    .dataframe tbody tr th:only-of-type {\n",
              "        vertical-align: middle;\n",
              "    }\n",
              "\n",
              "    .dataframe tbody tr th {\n",
              "        vertical-align: top;\n",
              "    }\n",
              "\n",
              "    .dataframe thead th {\n",
              "        text-align: right;\n",
              "    }\n",
              "</style>\n",
              "<table border=\"1\" class=\"dataframe\">\n",
              "  <thead>\n",
              "    <tr style=\"text-align: right;\">\n",
              "      <th></th>\n",
              "      <th>question_id</th>\n",
              "      <th>question</th>\n",
              "      <th>document_title</th>\n",
              "      <th>answer</th>\n",
              "      <th>label</th>\n",
              "    </tr>\n",
              "  </thead>\n",
              "  <tbody>\n",
              "    <tr>\n",
              "      <th>0</th>\n",
              "      <td>Q1</td>\n",
              "      <td>how are glacier caves formed?</td>\n",
              "      <td>Glacier cave</td>\n",
              "      <td>A partly submerged glacier cave on Perito More...</td>\n",
              "      <td>0</td>\n",
              "    </tr>\n",
              "    <tr>\n",
              "      <th>1</th>\n",
              "      <td>Q1</td>\n",
              "      <td>how are glacier caves formed?</td>\n",
              "      <td>Glacier cave</td>\n",
              "      <td>The ice facade is approximately 60 m high</td>\n",
              "      <td>0</td>\n",
              "    </tr>\n",
              "    <tr>\n",
              "      <th>2</th>\n",
              "      <td>Q1</td>\n",
              "      <td>how are glacier caves formed?</td>\n",
              "      <td>Glacier cave</td>\n",
              "      <td>Ice formations in the Titlis glacier cave</td>\n",
              "      <td>0</td>\n",
              "    </tr>\n",
              "    <tr>\n",
              "      <th>3</th>\n",
              "      <td>Q1</td>\n",
              "      <td>how are glacier caves formed?</td>\n",
              "      <td>Glacier cave</td>\n",
              "      <td>A glacier cave is a cave formed within the ice...</td>\n",
              "      <td>1</td>\n",
              "    </tr>\n",
              "    <tr>\n",
              "      <th>4</th>\n",
              "      <td>Q1</td>\n",
              "      <td>how are glacier caves formed?</td>\n",
              "      <td>Glacier cave</td>\n",
              "      <td>Glacier caves are often called ice caves , but...</td>\n",
              "      <td>0</td>\n",
              "    </tr>\n",
              "  </tbody>\n",
              "</table>\n",
              "</div>"
            ],
            "text/plain": [
              "  question_id                       question document_title  \\\n",
              "0          Q1  how are glacier caves formed?   Glacier cave   \n",
              "1          Q1  how are glacier caves formed?   Glacier cave   \n",
              "2          Q1  how are glacier caves formed?   Glacier cave   \n",
              "3          Q1  how are glacier caves formed?   Glacier cave   \n",
              "4          Q1  how are glacier caves formed?   Glacier cave   \n",
              "\n",
              "                                              answer  label  \n",
              "0  A partly submerged glacier cave on Perito More...      0  \n",
              "1          The ice facade is approximately 60 m high      0  \n",
              "2          Ice formations in the Titlis glacier cave      0  \n",
              "3  A glacier cave is a cave formed within the ice...      1  \n",
              "4  Glacier caves are often called ice caves , but...      0  "
            ]
          },
          "execution_count": 38,
          "metadata": {},
          "output_type": "execute_result"
        }
      ],
      "source": [
        "import pandas as pd\n",
        "\n",
        "train_data = pd.read_csv(\"data/training.csv\")\n",
        "dev_data = pd.read_csv(\"data/dev_test.csv\")\n",
        "test_data = pd.read_csv(\"data/test.csv\")\n",
        "train_data.head()\n"
      ]
    },
    {
      "cell_type": "markdown",
      "metadata": {
        "id": "gCvxn37jBiye"
      },
      "source": [
        "## Instructions\n",
        "\n",
        "* Complete the three tasks below.\n",
        "\n",
        "* Write your code inside this notebook.\n",
        "\n",
        "* Your notebook must include the running outputs of your final code.\n",
        "\n",
        "* **Submit this `.ipynb` file, containing your code and outputs, to iLearn.**\n",
        "\n",
        "## Assessment\n",
        "\n",
        "1.  Marks are based on the correctness of your code, outputs, and coding style.\n",
        "<!-- 2.  A total of **1.5 marks** (0.5 per task) are awarded globally across the assignment for good coding style: clean, modular code, meaningful variable names, and good comments. -->\n",
        "3.  Marks for each task focus only on the main implementation, **not on the data loading step**.\n",
        "4.  If outputs are missing or incorrect, up to **25% of the marks for that task** can be deducted.\n",
        "5.  See each task below for the detailed mark breakdown.\n",
        "\n",
        "## Task 1 (4 marks): Query-Focused Text Classification Using Naive Bayes\n",
        "\n",
        "* Preprocess the text data. Feel free to explore and use suitable preprocessing.\n",
        "\n",
        "* Extract features using **CountVectorizer** and **TF-IDF**.\n",
        "\n",
        "* Train and evaluate a **Naive Bayes classifier** on both feature sets.\n",
        "\n",
        "* Report and compare accuracy, precision, recall, and F1-score.\n",
        "\n",
        "**Mark breakdown:**\n",
        "\n",
        "\n",
        "* (2 marks) Correct implementation: preprocessing, feature extraction, training Naive Bayes models.\n",
        "\n",
        "* (1.5 marks) Proper evaluation: accuracy, precision, recall, F1-score + discussion of results.\n",
        "\n",
        "* (0.5 mark) Good coding style: clean, modular, clear variables, comments.\n",
        "\n",
        "<!-- * (0.5 mark) Preprocessing and feature extraction.\n",
        "\n",
        "* (1 mark) Training Naive Bayes on CountVectorizer and TF-IDF features.\n",
        "\n",
        "* (1 mark) Evaluation on the test set with proper metrics.\n",
        "\n",
        "* (1 mark) Brief discussion on which feature set performed better and why.\n",
        "\n",
        "* (0.5 mark) For good coding style: clean, modular code, meaningful variable names, and good comments. -->"
      ]
    },
    {
      "cell_type": "code",
      "execution_count": 39,
      "metadata": {},
      "outputs": [
        {
          "data": {
            "application/vnd.microsoft.datawrangler.viewer.v0+json": {
              "columns": [
                {
                  "name": "index",
                  "rawType": "int64",
                  "type": "integer"
                },
                {
                  "name": "question_id",
                  "rawType": "object",
                  "type": "string"
                },
                {
                  "name": "question",
                  "rawType": "object",
                  "type": "string"
                },
                {
                  "name": "document_title",
                  "rawType": "object",
                  "type": "string"
                },
                {
                  "name": "answer",
                  "rawType": "object",
                  "type": "string"
                },
                {
                  "name": "label",
                  "rawType": "int64",
                  "type": "integer"
                }
              ],
              "ref": "e22f162d-ee0c-47ee-aba2-04761abd3f3f",
              "rows": [
                [
                  "5845",
                  "Q827",
                  "how does milk turn into different  types of cheeses",
                  "Cheese",
                  "Herbs , spices , or wood smoke may be used as flavoring agents.",
                  "0"
                ],
                [
                  "7834",
                  "Q1094",
                  "What kind of personality test is the MBTI",
                  "Myers-Briggs Type Indicator",
                  "The initial questionnaire grew into the Myers-Briggs Type Indicator, which was first published in 1962.",
                  "0"
                ],
                [
                  "4326",
                  "Q613",
                  "how does egg substitute effect the cake if u put in",
                  "Cake",
                  "There are countless cake recipes; some are bread-like, some rich and elaborate, and many are centuries old.",
                  "0"
                ],
                [
                  "12516",
                  "Q1828",
                  "where did the british defeat of Rommel",
                  "Erwin Rommel",
                  "Erwin Johannes Eugen Rommel (15 November 1891 – 14 October 1944), popularly known as The Desert Fox (Wüstenfuchs, ), was a German Field Marshal of World War II .",
                  "0"
                ],
                [
                  "2430",
                  "Q332",
                  "what happens in chrono trigger if you lose to lavos",
                  "Chrono Trigger",
                  "The game's story follows a group of adventurers who travel through time to prevent a global catastrophe.",
                  "0"
                ],
                [
                  "15567",
                  "Q2272",
                  "what is in milk",
                  "Milk",
                  "Milk is a key contributor to improving nutrition and food security particularly in developing countries.",
                  "0"
                ],
                [
                  "20290",
                  "Q3035",
                  "what is the 8-fold plan to end suffering",
                  "Noble Eightfold Path",
                  "All eight elements of the Path begin with the word \"right\", which translates the word samyañc (in Sanskrit) or sammā (in Pāli).",
                  "0"
                ],
                [
                  "17169",
                  "Q2527",
                  "what is sexual reproductive health rights?",
                  "Reproductive health",
                  "It is possible for example, that low income individuals lack the resources for appropriate health services and the knowledge to know what is appropriate for maintaining reproductive health.",
                  "0"
                ],
                [
                  "973",
                  "Q125",
                  "how many presidential terms did fdr serve",
                  "Franklin D. Roosevelt",
                  "As an active military leader, Roosevelt implemented an overall war strategy on two fronts that ended in the defeat of the Axis Powers and the development of the world's first atom bomb .",
                  "0"
                ],
                [
                  "14967",
                  "Q2187",
                  "what is metformin used for",
                  "Metformin",
                  "It was introduced to the United Kingdom in 1958, Canada in 1972, and the United States in 1995.",
                  "0"
                ]
              ],
              "shape": {
                "columns": 5,
                "rows": 10
              }
            },
            "text/html": [
              "<div>\n",
              "<style scoped>\n",
              "    .dataframe tbody tr th:only-of-type {\n",
              "        vertical-align: middle;\n",
              "    }\n",
              "\n",
              "    .dataframe tbody tr th {\n",
              "        vertical-align: top;\n",
              "    }\n",
              "\n",
              "    .dataframe thead th {\n",
              "        text-align: right;\n",
              "    }\n",
              "</style>\n",
              "<table border=\"1\" class=\"dataframe\">\n",
              "  <thead>\n",
              "    <tr style=\"text-align: right;\">\n",
              "      <th></th>\n",
              "      <th>question_id</th>\n",
              "      <th>question</th>\n",
              "      <th>document_title</th>\n",
              "      <th>answer</th>\n",
              "      <th>label</th>\n",
              "    </tr>\n",
              "  </thead>\n",
              "  <tbody>\n",
              "    <tr>\n",
              "      <th>5845</th>\n",
              "      <td>Q827</td>\n",
              "      <td>how does milk turn into different  types of ch...</td>\n",
              "      <td>Cheese</td>\n",
              "      <td>Herbs , spices , or wood smoke may be used as ...</td>\n",
              "      <td>0</td>\n",
              "    </tr>\n",
              "    <tr>\n",
              "      <th>7834</th>\n",
              "      <td>Q1094</td>\n",
              "      <td>What kind of personality test is the MBTI</td>\n",
              "      <td>Myers-Briggs Type Indicator</td>\n",
              "      <td>The initial questionnaire grew into the Myers-...</td>\n",
              "      <td>0</td>\n",
              "    </tr>\n",
              "    <tr>\n",
              "      <th>4326</th>\n",
              "      <td>Q613</td>\n",
              "      <td>how does egg substitute effect the cake if u p...</td>\n",
              "      <td>Cake</td>\n",
              "      <td>There are countless cake recipes; some are bre...</td>\n",
              "      <td>0</td>\n",
              "    </tr>\n",
              "    <tr>\n",
              "      <th>12516</th>\n",
              "      <td>Q1828</td>\n",
              "      <td>where did the british defeat of Rommel</td>\n",
              "      <td>Erwin Rommel</td>\n",
              "      <td>Erwin Johannes Eugen Rommel (15 November 1891 ...</td>\n",
              "      <td>0</td>\n",
              "    </tr>\n",
              "    <tr>\n",
              "      <th>2430</th>\n",
              "      <td>Q332</td>\n",
              "      <td>what happens in chrono trigger if you lose to ...</td>\n",
              "      <td>Chrono Trigger</td>\n",
              "      <td>The game's story follows a group of adventurer...</td>\n",
              "      <td>0</td>\n",
              "    </tr>\n",
              "    <tr>\n",
              "      <th>15567</th>\n",
              "      <td>Q2272</td>\n",
              "      <td>what is in milk</td>\n",
              "      <td>Milk</td>\n",
              "      <td>Milk is a key contributor to improving nutriti...</td>\n",
              "      <td>0</td>\n",
              "    </tr>\n",
              "    <tr>\n",
              "      <th>20290</th>\n",
              "      <td>Q3035</td>\n",
              "      <td>what is the 8-fold plan to end suffering</td>\n",
              "      <td>Noble Eightfold Path</td>\n",
              "      <td>All eight elements of the Path begin with the ...</td>\n",
              "      <td>0</td>\n",
              "    </tr>\n",
              "    <tr>\n",
              "      <th>17169</th>\n",
              "      <td>Q2527</td>\n",
              "      <td>what is sexual reproductive health rights?</td>\n",
              "      <td>Reproductive health</td>\n",
              "      <td>It is possible for example, that low income in...</td>\n",
              "      <td>0</td>\n",
              "    </tr>\n",
              "    <tr>\n",
              "      <th>973</th>\n",
              "      <td>Q125</td>\n",
              "      <td>how many presidential terms did fdr serve</td>\n",
              "      <td>Franklin D. Roosevelt</td>\n",
              "      <td>As an active military leader, Roosevelt implem...</td>\n",
              "      <td>0</td>\n",
              "    </tr>\n",
              "    <tr>\n",
              "      <th>14967</th>\n",
              "      <td>Q2187</td>\n",
              "      <td>what is metformin used for</td>\n",
              "      <td>Metformin</td>\n",
              "      <td>It was introduced to the United Kingdom in 195...</td>\n",
              "      <td>0</td>\n",
              "    </tr>\n",
              "  </tbody>\n",
              "</table>\n",
              "</div>"
            ],
            "text/plain": [
              "      question_id                                           question  \\\n",
              "5845         Q827  how does milk turn into different  types of ch...   \n",
              "7834        Q1094          What kind of personality test is the MBTI   \n",
              "4326         Q613  how does egg substitute effect the cake if u p...   \n",
              "12516       Q1828             where did the british defeat of Rommel   \n",
              "2430         Q332  what happens in chrono trigger if you lose to ...   \n",
              "15567       Q2272                                    what is in milk   \n",
              "20290       Q3035           what is the 8-fold plan to end suffering   \n",
              "17169       Q2527         what is sexual reproductive health rights?   \n",
              "973          Q125          how many presidential terms did fdr serve   \n",
              "14967       Q2187                         what is metformin used for   \n",
              "\n",
              "                    document_title  \\\n",
              "5845                        Cheese   \n",
              "7834   Myers-Briggs Type Indicator   \n",
              "4326                          Cake   \n",
              "12516                 Erwin Rommel   \n",
              "2430                Chrono Trigger   \n",
              "15567                         Milk   \n",
              "20290         Noble Eightfold Path   \n",
              "17169          Reproductive health   \n",
              "973          Franklin D. Roosevelt   \n",
              "14967                    Metformin   \n",
              "\n",
              "                                                  answer  label  \n",
              "5845   Herbs , spices , or wood smoke may be used as ...      0  \n",
              "7834   The initial questionnaire grew into the Myers-...      0  \n",
              "4326   There are countless cake recipes; some are bre...      0  \n",
              "12516  Erwin Johannes Eugen Rommel (15 November 1891 ...      0  \n",
              "2430   The game's story follows a group of adventurer...      0  \n",
              "15567  Milk is a key contributor to improving nutriti...      0  \n",
              "20290  All eight elements of the Path begin with the ...      0  \n",
              "17169  It is possible for example, that low income in...      0  \n",
              "973    As an active military leader, Roosevelt implem...      0  \n",
              "14967  It was introduced to the United Kingdom in 195...      0  "
            ]
          },
          "execution_count": 39,
          "metadata": {},
          "output_type": "execute_result"
        }
      ],
      "source": [
        "train_data.sample(10)"
      ]
    },
    {
      "cell_type": "markdown",
      "metadata": {},
      "source": [
        "#### Preposesing The texts:\n",
        "I will define a preprosseing function that will do the following,\n",
        "1. Set everything to lower case\n",
        "2. tokenize the questions\n",
        "3. stem the tokens\n",
        "4. remove stopwords\n",
        "5. combine the tokens ready to be returned"
      ]
    },
    {
      "cell_type": "code",
      "execution_count": 40,
      "metadata": {
        "id": "UtekpzwCBjMg"
      },
      "outputs": [
        {
          "name": "stderr",
          "output_type": "stream",
          "text": [
            "[nltk_data] Downloading package stopwords to /Users/danny/nltk_data...\n",
            "[nltk_data]   Package stopwords is already up-to-date!\n",
            "[nltk_data] Downloading package punkt to /Users/danny/nltk_data...\n",
            "[nltk_data]   Package punkt is already up-to-date!\n"
          ]
        }
      ],
      "source": [
        "import nltk\n",
        "from nltk.corpus import stopwords\n",
        "from nltk.tokenize import word_tokenize\n",
        "from nltk.stem import PorterStemmer\n",
        "\n",
        "nltk.download(\"stopwords\")\n",
        "nltk.download(\"punkt\")\n",
        "\n",
        "def preprocess(text):\n",
        "    text = text.lower()\n",
        "    tokens = word_tokenize(text)\n",
        "    stemmer = PorterStemmer()\n",
        "    stop_words = set(stopwords.words('english'))\n",
        "    tokens = [stemmer.stem(word) for word in tokens if word not in stop_words]\n",
        "\n",
        "    return ' '.join(tokens)"
      ]
    },
    {
      "cell_type": "code",
      "execution_count": 41,
      "metadata": {},
      "outputs": [],
      "source": [
        "# Combining the answers and questions when preprosessing to to give context to the model\n",
        "\n",
        "# Preprossesing Training Data\n",
        "train_data[\"to_vectorize\"] = train_data[\"question\"] + train_data[\"answer\"]\n",
        "train_data[\"preprosessed\"] = train_data[\"to_vectorize\"].apply(preprocess)\n",
        "\n",
        "# Preprossesing Testing Data\n",
        "test_data[\"to_vectorize\"] = test_data[\"question\"] + test_data [\"answer\"]\n",
        "test_data[\"preprosessed\"] = test_data[\"to_vectorize\"].apply(preprocess)\n"
      ]
    },
    {
      "cell_type": "markdown",
      "metadata": {},
      "source": [
        "#### Vectorzing the questions + answers"
      ]
    },
    {
      "cell_type": "code",
      "execution_count": 42,
      "metadata": {},
      "outputs": [],
      "source": [
        "from sklearn.feature_extraction.text import CountVectorizer, TfidfVectorizer\n",
        "\n",
        "count_vectorizer = CountVectorizer()\n",
        "tfidf_vectorizer = TfidfVectorizer()\n",
        "\n",
        "# Vectorizing Training Data\n",
        "X_count = count_vectorizer.fit_transform(train_data[\"preprosessed\"])\n",
        "X_tfidf = tfidf_vectorizer.fit_transform(train_data[\"preprosessed\"])\n",
        "y = train_data[\"label\"]\n",
        "\n",
        "#Vecotrizing Testing Data\n",
        "test_count = count_vectorizer.transform(test_data[\"preprosessed\"])\n",
        "test_tfidf = tfidf_vectorizer.transform(test_data[\"preprosessed\"])\n",
        "test_y = test_data[\"label\"]\n",
        "\n",
        "\n"
      ]
    },
    {
      "cell_type": "markdown",
      "metadata": {},
      "source": [
        "#### Training a NB Model"
      ]
    },
    {
      "cell_type": "code",
      "execution_count": 43,
      "metadata": {},
      "outputs": [],
      "source": [
        "from sklearn.naive_bayes import MultinomialNB\n",
        "\n",
        "nb_count = MultinomialNB().fit(X_count, y)\n",
        "nb_tfidf = MultinomialNB().fit(X_tfidf, y)\n",
        "\n"
      ]
    },
    {
      "cell_type": "markdown",
      "metadata": {},
      "source": [
        "#### Testing the Model accuracy"
      ]
    },
    {
      "cell_type": "code",
      "execution_count": 44,
      "metadata": {},
      "outputs": [],
      "source": [
        "from sklearn.metrics import accuracy_score, precision_score, recall_score, f1_score\n",
        "\n",
        "def evaluate(model, X_test, y_test):\n",
        "    preds = model.predict(X_test)\n",
        "    return {\n",
        "        \"accuracy\": accuracy_score(y_test, preds),\n",
        "        \"precision\": precision_score(y_test, preds),\n",
        "        \"recall\": recall_score(y_test, preds),\n",
        "        \"f1\": f1_score(y_test, preds)\n",
        "    }\n",
        "\n",
        "def print_eval(name:str, eval: dict):\n",
        "    print(f\"Evaluation for {name}: \")\n",
        "    for key, item in eval.items():\n",
        "        print(f\"{key}: {item}\")"
      ]
    },
    {
      "cell_type": "code",
      "execution_count": 45,
      "metadata": {},
      "outputs": [
        {
          "name": "stdout",
          "output_type": "stream",
          "text": [
            "Evaluation for nb_count: \n",
            "accuracy: 0.9493917274939173\n",
            "precision: 0.1724137931034483\n",
            "recall: 0.017064846416382253\n",
            "f1: 0.031055900621118012\n",
            "\n",
            "\n",
            "Evaluation for nb_tfidf: \n",
            "accuracy: 0.9524736415247365\n",
            "precision: 0.0\n",
            "recall: 0.0\n",
            "f1: 0.0\n"
          ]
        },
        {
          "name": "stderr",
          "output_type": "stream",
          "text": [
            "/Users/danny/Documents/UNI/COMP3420/COMP3420_a3_2/.venv/lib/python3.12/site-packages/sklearn/metrics/_classification.py:1565: UndefinedMetricWarning: Precision is ill-defined and being set to 0.0 due to no predicted samples. Use `zero_division` parameter to control this behavior.\n",
            "  _warn_prf(average, modifier, f\"{metric.capitalize()} is\", len(result))\n"
          ]
        }
      ],
      "source": [
        "print_eval(\"nb_count\", evaluate(nb_count, test_count, test_y))\n",
        "print(\"\\n\")\n",
        "print_eval(\"nb_tfidf\", evaluate(nb_tfidf, test_tfidf, test_y))"
      ]
    },
    {
      "cell_type": "markdown",
      "metadata": {},
      "source": [
        "### Task 1 Analysys\n",
        "\n",
        "While the tfidf approach provided a better accuracy it was still outperformed by the count model. The TFIDF became ultra conservative influenced by the ratio of false answers to true answers and never guessed a positive result, as indicatied by zero scores on precision, recall and f1. it was just as effective as a model in the form\n",
        "\n",
        "```python\n",
        "def model(inputs: list):\n",
        "    return [0 for _ in inputs]\n",
        "```\n",
        "\n",
        "In contrast, the count model attempted to predict some positive cases. Although it had a slight drop in accuracy, it achieved non-zero precision and recall and f1. It did still perform poorly; likely due to class imbalance. It has at least some capability to identify positive samples, making it more useful than the TF-IDF version."
      ]
    },
    {
      "cell_type": "markdown",
      "metadata": {
        "id": "6HxonZ2qFzNm"
      },
      "source": [
        "## Task 2 (6 marks): Siamese Neural Network with Contrastive Loss (PyTorch)\n",
        "\n",
        "This task involves two stages: first learning sentence embeddings using contrastive loss, and then using these embeddings for classification.\n",
        "\n",
        "### Task 2a: Learning Embeddings with Contrastive Loss\n",
        "\n",
        "* Preprocess question-answer pairs (e.g., TF-IDF or embeddings).\n",
        "\n",
        "* Implement a Siamese Network in PyTorch:\n",
        "    * The network should take the preprocessed question and answer representations as input.\n",
        "  \n",
        "    * Each branch of the Siamese network should contain two hidden layers with ReLU activation. (hidden layer size chosen from {64, 128, 256})\n",
        "  \n",
        "    * Use Euclidean-distance-based contrastive loss, use a margin value of m=1.\n",
        "  \n",
        "    * The network should output an embedding vector (the output of the second hidden layer) for the question and the answer.\n",
        "\n",
        "* Train the model and evaluate on the test set.\n",
        "\n",
        "*Note: Save the best performing model to be reused in Task 2b*\n",
        "\n",
        "### Task 2b: Classification using Learned Embeddings\n",
        "\n",
        "* Load the weights of the best performing Siamese network model saved from Task 2a. Freeze the weights of the shared Siamese branches (i.e., the hidden layers) so they are not updated during this stage.\n",
        "\n",
        "* Build Classifier Head in PyTorch:\n",
        "    * Pass the question and answer representations through their respective frozen branches to obtain their learned embeddings from Task 2a.\n",
        "\n",
        "    * Calculate the Euclidean distance between the question embedding and the answer embedding.\n",
        "\n",
        "    * Add a final classification output layer: Pass the calculated distance through a simple trainable layer (e.g., a Dense layer with 1 unit) followed by a Sigmoid activation function. This will output a value between 0 and 1, representing the predicted probability of the pair being related.\n",
        "\n",
        "* Train the model and evaluate on the test set with Binary Cross-Entropy (BCE) loss.\n",
        "\n",
        "* Report the accuracy and provide at least one failure case analysis, with supporting code output.\n",
        "\n",
        "**Mark breakdown:**\n",
        "\n",
        "* (3 marks) Correct implementation: Siamese NN architecture, contrastive loss, classification head setup.\n",
        "\n",
        "* (2.5 marks) Proper evaluation: training/evaluation correctness, metric reporting, failure case analysis.\n",
        "\n",
        "* (0.5 mark) Good coding style: : clean, modular code, meaningful variable names, and good comments.\n",
        "\n",
        "<!-- * (1 mark) Correct Siamese NN architecture and contrastive loss.\n",
        "\n",
        "* (1 mark) SNN training setup and data feeding.\n",
        "\n",
        "* (1 mark) Correctly loading the pre-trained model, freezing the appropriate layers, and constructing the classification architecture.\n",
        "\n",
        "* (1 mark) Correct training/evaluation setup using Binary Cross-Entropy loss.\n",
        "\n",
        "* (0.5 mark) Proper evaluation and accuracy reporting.\n",
        "\n",
        "* (1 mark) Example of a failure case, possible reason, and suggested improvement.\n",
        "\n",
        "* (0.5 mark) For good coding style: clean, modular code, meaningful variable names, and good comments. -->"
      ]
    },
    {
      "cell_type": "code",
      "execution_count": 46,
      "metadata": {
        "id": "pIbUH_NTBuO0"
      },
      "outputs": [],
      "source": [
        "import torch\n",
        "import torch.nn as nn\n",
        "import torch.optim as optim\n",
        "from torch.utils.data import Dataset, DataLoader\n",
        "from tqdm import tqdm\n"
      ]
    },
    {
      "cell_type": "markdown",
      "metadata": {},
      "source": [
        "### Preprosessing and Vectorizing Questions Plus Answers\n",
        "Note: I am using the preprosessed data from the previous section."
      ]
    },
    {
      "cell_type": "code",
      "execution_count": 47,
      "metadata": {},
      "outputs": [],
      "source": [
        "# Fitting the vectorizer on the previous preprosessed data\n",
        "tfidf_vectorizer.fit(train_data[\"preprosessed\"])\n",
        "\n",
        "# Vectorizing Training Data\n",
        "train_data[\"preprocessed_question\"] = train_data[\"question\"].apply(preprocess)\n",
        "train_data[\"preprocessed_answer\"] = train_data[\"answer\"].apply(preprocess)\n",
        "\n",
        "q_train = tfidf_vectorizer.transform(train_data[\"preprocessed_question\"])\n",
        "a_train = tfidf_vectorizer.transform(train_data[\"preprocessed_answer\"])\n",
        "y_train = train_data[\"label\"]\n",
        "\n",
        "# Preprocessing then Vecotrizing DevTest Data\n",
        "dev_data[\"preprocessed_question\"] = dev_data[\"question\"].apply(preprocess)\n",
        "dev_data[\"preprocessed_answer\"] = dev_data[\"answer\"].apply(preprocess)\n",
        "\n",
        "q_dev = tfidf_vectorizer.transform(dev_data[\"preprocessed_question\"])\n",
        "a_dev = tfidf_vectorizer.transform(dev_data[\"preprocessed_answer\"])\n",
        "y_dev = dev_data[\"label\"]\n",
        "\n",
        "#Vecotrizing Testing Data\n",
        "test_data[\"preprocessed_question\"] = test_data[\"question\"].apply(preprocess)\n",
        "test_data[\"preprocessed_answer\"] = test_data[\"answer\"].apply(preprocess)\n",
        "\n",
        "q_test = tfidf_vectorizer.transform(test_data[\"preprocessed_question\"])\n",
        "a_test = tfidf_vectorizer.transform(test_data[\"preprocessed_answer\"])\n",
        "y_test = test_data[\"label\"]\n"
      ]
    },
    {
      "cell_type": "markdown",
      "metadata": {},
      "source": [
        "### Defining DataSet Class"
      ]
    },
    {
      "cell_type": "code",
      "execution_count": 48,
      "metadata": {},
      "outputs": [],
      "source": [
        "class SiameseDataset(Dataset):\n",
        "    def __init__(self, questions, answers, labels):\n",
        "        self.questions = questions\n",
        "        self.answers = answers\n",
        "        self.labels = labels\n",
        "\n",
        "    def __len__(self):\n",
        "        return len(self.labels)\n",
        "\n",
        "    def __getitem__(self, idx):\n",
        "        q = self.questions[idx].toarray().squeeze()\n",
        "        a = self.answers[idx].toarray().squeeze()\n",
        "        y = self.labels.iloc[idx]  # using .iloc for pandas Series\n",
        "        return (\n",
        "            torch.tensor(q, dtype=torch.float32),\n",
        "            torch.tensor(a, dtype=torch.float32),\n",
        "            torch.tensor(y, dtype=torch.float32),\n",
        "        )"
      ]
    },
    {
      "cell_type": "markdown",
      "metadata": {},
      "source": [
        "### Creating the Datasets and DataLoaders"
      ]
    },
    {
      "cell_type": "code",
      "execution_count": 49,
      "metadata": {},
      "outputs": [],
      "source": [
        "train_dataset = SiameseDataset(q_train, a_train, y_train)\n",
        "dev_dataset = SiameseDataset(q_dev, a_dev, y_dev)\n",
        "test_dataset = SiameseDataset(q_test, a_test, y_test)\n",
        "\n",
        "train_loader = DataLoader(train_dataset, batch_size=32, shuffle=True)\n",
        "dev_loader = DataLoader(dev_dataset, batch_size=32)\n",
        "test_loader = DataLoader(test_dataset, batch_size=32)"
      ]
    },
    {
      "cell_type": "markdown",
      "metadata": {},
      "source": [
        "### Defining the NN model"
      ]
    },
    {
      "cell_type": "code",
      "execution_count": 50,
      "metadata": {},
      "outputs": [],
      "source": [
        "class SiameseNetwork(nn.Module):\n",
        "    def __init__(self, input_dim, hidden_size=128):\n",
        "        super(SiameseNetwork, self).__init__()\n",
        "        self.fc1 = nn.Linear(input_dim, hidden_size)\n",
        "        self.relu = nn.ReLU()\n",
        "        self.fc2 = nn.Linear(hidden_size, hidden_size)\n",
        "\n",
        "    def forward_once(self, x):\n",
        "        x = self.relu(self.fc1(x))\n",
        "        x = self.fc2(x)\n",
        "        return x\n",
        "\n",
        "    def forward(self, q, a):\n",
        "        q_embed = self.forward_once(q)\n",
        "        a_embed = self.forward_once(a)\n",
        "        return q_embed, a_embed"
      ]
    },
    {
      "cell_type": "markdown",
      "metadata": {},
      "source": [
        "### Defining Loss Function"
      ]
    },
    {
      "cell_type": "code",
      "execution_count": 51,
      "metadata": {},
      "outputs": [],
      "source": [
        "class ContrastiveLoss(nn.Module):\n",
        "    def __init__(self, margin=1.0):\n",
        "        super().__init__()\n",
        "        self.margin = margin\n",
        "\n",
        "    def forward(self, distance, label):\n",
        "        if label.dim() == 1:\n",
        "            label = label.unsqueeze(1)\n",
        "        \n",
        "        square_pred = torch.square(distance)\n",
        "        margin_square = torch.square(torch.clamp(self.margin - distance, min=0.0))\n",
        "        \n",
        "        loss = label * 0.5 * square_pred + (1 - label) * 0.5 * margin_square\n",
        "        return torch.mean(loss)"
      ]
    },
    {
      "cell_type": "markdown",
      "metadata": {},
      "source": [
        "### Defining Training Function"
      ]
    },
    {
      "cell_type": "code",
      "execution_count": 52,
      "metadata": {},
      "outputs": [],
      "source": [
        "def train_siamese_epoch(model, iterator, optimizer, criterion, device):\n",
        "    epoch_loss = 0\n",
        "    model.train()\n",
        "\n",
        "    for q, a, labels in tqdm(iterator, total=len(iterator)):\n",
        "\n",
        "        q = q.to(device)\n",
        "        a = a.to(device)\n",
        "        labels = labels.to(device)\n",
        "\n",
        "        optimizer.zero_grad()\n",
        "        q_embed, a_embed = model(q, a)\n",
        "        distance = torch.norm(q_embed - a_embed, dim=1, keepdim=True)\n",
        "        \n",
        "        loss = criterion(distance, labels)\n",
        "\n",
        "        loss.backward()\n",
        "        optimizer.step()\n",
        "\n",
        "        epoch_loss += loss.item()\n",
        "\n",
        "    return epoch_loss / len(iterator)"
      ]
    },
    {
      "cell_type": "markdown",
      "metadata": {},
      "source": [
        "### Defining Evaluation Function"
      ]
    },
    {
      "cell_type": "code",
      "execution_count": 53,
      "metadata": {},
      "outputs": [],
      "source": [
        "def evaluate_siamese_epoch(model, iterator, criterion, device):\n",
        "    epoch_loss = 0\n",
        "    model.eval()\n",
        "\n",
        "    with torch.no_grad():\n",
        "        for q, a, labels in tqdm(iterator, total=len(iterator)):\n",
        "            q = q.to(device)\n",
        "            a = a.to(device)\n",
        "            labels = labels.to(device)\n",
        "\n",
        "            q_embed, a_embed = model(q, a)\n",
        "            distance = torch.norm(q_embed - a_embed, dim=1, keepdim=True)\n",
        "            loss = criterion(distance, labels)\n",
        "\n",
        "            epoch_loss += loss.item()\n",
        "\n",
        "    return epoch_loss / len(iterator)"
      ]
    },
    {
      "cell_type": "markdown",
      "metadata": {},
      "source": [
        "### Training The Model"
      ]
    },
    {
      "cell_type": "code",
      "execution_count": null,
      "metadata": {},
      "outputs": [
        {
          "name": "stdout",
          "output_type": "stream",
          "text": [
            "Training Epoch\n"
          ]
        },
        {
          "name": "stderr",
          "output_type": "stream",
          "text": [
            "100%|██████████| 637/637 [00:05<00:00, 106.84it/s]\n"
          ]
        },
        {
          "name": "stdout",
          "output_type": "stream",
          "text": [
            "Evaluating Epoch\n"
          ]
        },
        {
          "name": "stderr",
          "output_type": "stream",
          "text": [
            "100%|██████████| 86/86 [00:00<00:00, 261.07it/s]\n"
          ]
        },
        {
          "name": "stdout",
          "output_type": "stream",
          "text": [
            "Epoch 0: Epoch Loss 0.08700959769068826, dev_test loss 0.05110428526288245\n",
            "Training Epoch\n"
          ]
        },
        {
          "name": "stderr",
          "output_type": "stream",
          "text": [
            "100%|██████████| 637/637 [00:05<00:00, 114.71it/s]\n"
          ]
        },
        {
          "name": "stdout",
          "output_type": "stream",
          "text": [
            "Evaluating Epoch\n"
          ]
        },
        {
          "name": "stderr",
          "output_type": "stream",
          "text": [
            "100%|██████████| 86/86 [00:00<00:00, 295.40it/s]\n"
          ]
        },
        {
          "name": "stdout",
          "output_type": "stream",
          "text": [
            "Epoch 1: Epoch Loss 0.014392376464867388, dev_test loss 0.05006419338873414\n",
            "Training Epoch\n"
          ]
        },
        {
          "name": "stderr",
          "output_type": "stream",
          "text": [
            "100%|██████████| 637/637 [00:05<00:00, 118.19it/s]\n"
          ]
        },
        {
          "name": "stdout",
          "output_type": "stream",
          "text": [
            "Evaluating Epoch\n"
          ]
        },
        {
          "name": "stderr",
          "output_type": "stream",
          "text": [
            "100%|██████████| 86/86 [00:00<00:00, 294.24it/s]\n"
          ]
        },
        {
          "name": "stdout",
          "output_type": "stream",
          "text": [
            "Epoch 2: Epoch Loss 0.005830232023678404, dev_test loss 0.04845450253277133\n",
            "Training Epoch\n"
          ]
        },
        {
          "name": "stderr",
          "output_type": "stream",
          "text": [
            "100%|██████████| 637/637 [00:05<00:00, 118.15it/s]\n"
          ]
        },
        {
          "name": "stdout",
          "output_type": "stream",
          "text": [
            "Evaluating Epoch\n"
          ]
        },
        {
          "name": "stderr",
          "output_type": "stream",
          "text": [
            "100%|██████████| 86/86 [00:00<00:00, 295.24it/s]\n"
          ]
        },
        {
          "name": "stdout",
          "output_type": "stream",
          "text": [
            "Epoch 3: Epoch Loss 0.003702736036808904, dev_test loss 0.04791868173631861\n",
            "Training Epoch\n"
          ]
        },
        {
          "name": "stderr",
          "output_type": "stream",
          "text": [
            "100%|██████████| 637/637 [00:05<00:00, 117.45it/s]\n"
          ]
        },
        {
          "name": "stdout",
          "output_type": "stream",
          "text": [
            "Evaluating Epoch\n"
          ]
        },
        {
          "name": "stderr",
          "output_type": "stream",
          "text": [
            "100%|██████████| 86/86 [00:00<00:00, 287.68it/s]\n"
          ]
        },
        {
          "name": "stdout",
          "output_type": "stream",
          "text": [
            "Epoch 4: Epoch Loss 0.003454654102589166, dev_test loss 0.04841329698920586\n",
            "Training Epoch\n"
          ]
        },
        {
          "name": "stderr",
          "output_type": "stream",
          "text": [
            "100%|██████████| 637/637 [00:05<00:00, 115.55it/s]\n"
          ]
        },
        {
          "name": "stdout",
          "output_type": "stream",
          "text": [
            "Evaluating Epoch\n"
          ]
        },
        {
          "name": "stderr",
          "output_type": "stream",
          "text": [
            "100%|██████████| 86/86 [00:00<00:00, 265.95it/s]\n"
          ]
        },
        {
          "name": "stdout",
          "output_type": "stream",
          "text": [
            "Epoch 5: Epoch Loss 0.0033206490486149625, dev_test loss 0.04746530232626165\n",
            "Training Epoch\n"
          ]
        },
        {
          "name": "stderr",
          "output_type": "stream",
          "text": [
            "100%|██████████| 637/637 [00:05<00:00, 119.17it/s]\n"
          ]
        },
        {
          "name": "stdout",
          "output_type": "stream",
          "text": [
            "Evaluating Epoch\n"
          ]
        },
        {
          "name": "stderr",
          "output_type": "stream",
          "text": [
            "100%|██████████| 86/86 [00:00<00:00, 291.21it/s]\n"
          ]
        },
        {
          "name": "stdout",
          "output_type": "stream",
          "text": [
            "Epoch 6: Epoch Loss 0.003000111377948178, dev_test loss 0.04866390297091891\n",
            "Training Epoch\n"
          ]
        },
        {
          "name": "stderr",
          "output_type": "stream",
          "text": [
            "100%|██████████| 637/637 [00:05<00:00, 118.66it/s]\n"
          ]
        },
        {
          "name": "stdout",
          "output_type": "stream",
          "text": [
            "Evaluating Epoch\n"
          ]
        },
        {
          "name": "stderr",
          "output_type": "stream",
          "text": [
            "100%|██████████| 86/86 [00:00<00:00, 290.53it/s]\n"
          ]
        },
        {
          "name": "stdout",
          "output_type": "stream",
          "text": [
            "Epoch 7: Epoch Loss 0.002681122778175003, dev_test loss 0.04782779535365313\n",
            "Training Epoch\n"
          ]
        },
        {
          "name": "stderr",
          "output_type": "stream",
          "text": [
            "100%|██████████| 637/637 [00:05<00:00, 117.29it/s]\n"
          ]
        },
        {
          "name": "stdout",
          "output_type": "stream",
          "text": [
            "Evaluating Epoch\n"
          ]
        },
        {
          "name": "stderr",
          "output_type": "stream",
          "text": [
            "100%|██████████| 86/86 [00:00<00:00, 286.37it/s]\n"
          ]
        },
        {
          "name": "stdout",
          "output_type": "stream",
          "text": [
            "Epoch 8: Epoch Loss 0.002454371607372337, dev_test loss 0.04763233624324257\n",
            "Training Epoch\n"
          ]
        },
        {
          "name": "stderr",
          "output_type": "stream",
          "text": [
            "100%|██████████| 637/637 [00:05<00:00, 116.08it/s]\n"
          ]
        },
        {
          "name": "stdout",
          "output_type": "stream",
          "text": [
            "Evaluating Epoch\n"
          ]
        },
        {
          "name": "stderr",
          "output_type": "stream",
          "text": [
            "100%|██████████| 86/86 [00:00<00:00, 283.77it/s]"
          ]
        },
        {
          "name": "stdout",
          "output_type": "stream",
          "text": [
            "Epoch 9: Epoch Loss 0.002220314244953443, dev_test loss 0.04768294681546882\n"
          ]
        },
        {
          "name": "stderr",
          "output_type": "stream",
          "text": [
            "\n"
          ]
        }
      ],
      "source": [
        "import math\n",
        "import copy\n",
        "\n",
        "DEVICE = torch.device('cuda' if torch.cuda.is_available() else 'cpu')\n",
        "\n",
        "NO_EPOCHS = 10\n",
        "\n",
        "siamese_model = SiameseNetwork(train_dataset[0][0].shape[0], hidden_size=64).to(DEVICE)\n",
        "contrastive_loss = ContrastiveLoss(margin= 1.0).to(DEVICE)\n",
        "siamese_optimizer = optim.Adam(siamese_model.parameters(), lr= 1e-3)\n",
        "\n",
        "\n",
        "best_model = None\n",
        "best_loss = math.inf\n",
        "train_losses =[]\n",
        "dev_losses = []\n",
        "\n",
        "for i in range(NO_EPOCHS):\n",
        "    print(\"Training Epoch\")\n",
        "    epoch_loss = train_siamese_epoch(\n",
        "        model=siamese_model,\n",
        "        iterator=train_loader,\n",
        "        optimizer=siamese_optimizer,\n",
        "        criterion=contrastive_loss,\n",
        "        device=DEVICE\n",
        "     )\n",
        "    \n",
        "    print(\"Evaluating Epoch\")\n",
        "    dev_loss = evaluate_siamese_epoch(\n",
        "        model=siamese_model,\n",
        "        iterator=dev_loader,\n",
        "        criterion=contrastive_loss,\n",
        "        device=DEVICE\n",
        "    )\n",
        "\n",
        "    train_losses.append(epoch_loss)\n",
        "    dev_losses.append(dev_loss)\n",
        "\n",
        "    print(f\"Epoch {i}: Epoch Loss {epoch_loss}, dev_test loss {dev_loss}\")\n",
        "\n",
        "    if dev_loss < best_loss:\n",
        "        best_loss = dev_loss\n",
        "        best_model = copy.deepcopy(siamese_model.state_dict())\n",
        "\n",
        "\n",
        "    \n"
      ]
    },
    {
      "cell_type": "markdown",
      "metadata": {},
      "source": [
        "### Plotting Training Loss"
      ]
    },
    {
      "cell_type": "code",
      "execution_count": 55,
      "metadata": {},
      "outputs": [
        {
          "data": {
            "image/png": "[encoded data removed]",
            "text/plain": [
              "<Figure size 640x480 with 1 Axes>"
            ]
          },
          "metadata": {},
          "output_type": "display_data"
        }
      ],
      "source": [
        "import matplotlib.pyplot as plt\n",
        "%matplotlib inline\n",
        "\n",
        "plt.plot(train_losses, label='Training Loss')\n",
        "plt.plot(dev_losses, label='DevTest Loss')\n",
        "\n",
        "plt.xlabel('Epoch')\n",
        "plt.ylabel('Loss')\n",
        "plt.title('Training Loss Comparison')\n",
        "plt.legend()\n",
        "plt.grid(True)\n",
        "plt.show()"
      ]
    },
    {
      "cell_type": "markdown",
      "metadata": {},
      "source": [
        "## 2a\n",
        "### Defining the classifier"
      ]
    },
    {
      "cell_type": "code",
      "execution_count": 56,
      "metadata": {},
      "outputs": [],
      "source": [
        "class SimilarityClassifier(nn.Module):\n",
        "    def __init__(self, siamese_model):\n",
        "        super().__init__()\n",
        "        self.siamese_model = siamese_model\n",
        "        for param in self.siamese_model.parameters():\n",
        "            param.requires_grad = False\n",
        "        \n",
        "        self.classifier = nn.Sequential(\n",
        "            nn.Linear(1, 16),\n",
        "            nn.ReLU(),\n",
        "            nn.Linear(16, 1),\n",
        "            nn.Sigmoid()\n",
        "        )\n",
        "    \n",
        "    def forward(self, ids1, ids2):\n",
        "        with torch.no_grad():\n",
        "            q_embed, a_embed = self.siamese_model(ids1, ids2)\n",
        "            distance = torch.norm(q_embed - a_embed, dim=1, keepdim=True)\n",
        "        \n",
        "        predictions = self.classifier(distance)\n",
        "        return predictions\n",
        "\n"
      ]
    },
    {
      "cell_type": "code",
      "execution_count": 57,
      "metadata": {},
      "outputs": [],
      "source": [
        "def train_classifier_epoch(model, iterator, optimizer, criterion, device):\n",
        "    epoch_loss = 0\n",
        "    epoch_acc = 0\n",
        "    model.train()\n",
        "\n",
        "    for ids1, ids2, labels in tqdm(iterator, total=len(iterator)):\n",
        "        ids1 = ids1.to(device)\n",
        "        ids2 = ids2.to(device)\n",
        "        labels = labels.to(device)\n",
        "\n",
        "        optimizer.zero_grad()\n",
        "        predictions = model(ids1, ids2)\n",
        "        \n",
        "        loss = criterion(predictions.squeeze(-1), labels)\n",
        "        \n",
        "        preds_np = torch.round(predictions).detach().cpu().numpy()\n",
        "        labels_np = labels.detach().cpu().numpy()\n",
        "        acc = accuracy_score(labels_np, preds_np)\n",
        "\n",
        "        loss.backward()\n",
        "        optimizer.step()\n",
        "        \n",
        "        epoch_loss += loss.item()\n",
        "        epoch_acc += acc\n",
        "        \n",
        "    return epoch_loss / len(iterator), epoch_acc / len(iterator)"
      ]
    },
    {
      "cell_type": "code",
      "execution_count": 58,
      "metadata": {},
      "outputs": [],
      "source": [
        "def evaluate_classifier_epoch(model, iterator, criterion, device):\n",
        "    epoch_loss = 0\n",
        "    epoch_acc = 0\n",
        "    model.eval()\n",
        "\n",
        "    with torch.no_grad():\n",
        "        for ids1, ids2, labels in tqdm(iterator, total=len(iterator)):\n",
        "            ids1 = ids1.to(device)\n",
        "            ids2 = ids2.to(device)\n",
        "            labels = labels.to(device)\n",
        "\n",
        "            predictions = model(ids1, ids2)\n",
        "            loss = criterion(predictions.squeeze(-1), labels)\n",
        "\n",
        "            preds_np = torch.round(predictions).detach().cpu().numpy()\n",
        "            labels_np = labels.detach().cpu().numpy()\n",
        "            acc = accuracy_score(labels_np, preds_np)\n",
        "\n",
        "            epoch_loss += loss.item()\n",
        "            epoch_acc += acc\n",
        "            \n",
        "    return epoch_loss / len(iterator), epoch_acc / len(iterator)"
      ]
    },
    {
      "cell_type": "code",
      "execution_count": 59,
      "metadata": {},
      "outputs": [],
      "source": [
        "# Loading the old model\n",
        "siamese_model.load_state_dict(best_model)\n",
        "\n",
        "classifier_model = SimilarityClassifier(siamese_model)\n",
        "\n",
        "bce_loss = nn.BCELoss().to(DEVICE)\n",
        "classifier_optimizer = optim.Adam(classifier_model.parameters(), lr=1e-3)\n"
      ]
    },
    {
      "cell_type": "code",
      "execution_count": 60,
      "metadata": {},
      "outputs": [
        {
          "name": "stdout",
          "output_type": "stream",
          "text": [
            "Training Epoch\n"
          ]
        },
        {
          "name": "stderr",
          "output_type": "stream",
          "text": [
            "100%|██████████| 637/637 [00:02<00:00, 247.58it/s]\n"
          ]
        },
        {
          "name": "stdout",
          "output_type": "stream",
          "text": [
            "Evaluating Epoch\n"
          ]
        },
        {
          "name": "stderr",
          "output_type": "stream",
          "text": [
            "100%|██████████| 86/86 [00:00<00:00, 264.11it/s]\n"
          ]
        },
        {
          "name": "stdout",
          "output_type": "stream",
          "text": [
            "Epoch 0: Epoch Acc 0.9489795918367347, Epoch Loss 0.20305064040728885 \n",
            "dev_test acc 0.9491279069767442, dev_test loss 0.20068680410554937\n",
            "Training Epoch\n"
          ]
        },
        {
          "name": "stderr",
          "output_type": "stream",
          "text": [
            "100%|██████████| 637/637 [00:02<00:00, 253.33it/s]\n"
          ]
        },
        {
          "name": "stdout",
          "output_type": "stream",
          "text": [
            "Evaluating Epoch\n"
          ]
        },
        {
          "name": "stderr",
          "output_type": "stream",
          "text": [
            "100%|██████████| 86/86 [00:00<00:00, 273.76it/s]\n"
          ]
        },
        {
          "name": "stdout",
          "output_type": "stream",
          "text": [
            "Epoch 1: Epoch Acc 0.9584968602825745, Epoch Loss 0.07562198729094942 \n",
            "dev_test acc 0.9402392665474061, dev_test loss 0.2252987400455357\n",
            "Training Epoch\n"
          ]
        },
        {
          "name": "stderr",
          "output_type": "stream",
          "text": [
            "100%|██████████| 637/637 [00:02<00:00, 256.16it/s]\n"
          ]
        },
        {
          "name": "stdout",
          "output_type": "stream",
          "text": [
            "Evaluating Epoch\n"
          ]
        },
        {
          "name": "stderr",
          "output_type": "stream",
          "text": [
            "100%|██████████| 86/86 [00:00<00:00, 266.17it/s]\n"
          ]
        },
        {
          "name": "stdout",
          "output_type": "stream",
          "text": [
            "Epoch 2: Epoch Acc 0.9860675039246468, Epoch Loss 0.04025721212109226 \n",
            "dev_test acc 0.8908486135957067, dev_test loss 0.28447836465852033\n",
            "Training Epoch\n"
          ]
        },
        {
          "name": "stderr",
          "output_type": "stream",
          "text": [
            "100%|██████████| 637/637 [00:02<00:00, 254.64it/s]\n"
          ]
        },
        {
          "name": "stdout",
          "output_type": "stream",
          "text": [
            "Evaluating Epoch\n"
          ]
        },
        {
          "name": "stderr",
          "output_type": "stream",
          "text": [
            "100%|██████████| 86/86 [00:00<00:00, 265.63it/s]\n"
          ]
        },
        {
          "name": "stdout",
          "output_type": "stream",
          "text": [
            "Epoch 3: Epoch Acc 0.9943583202511774, Epoch Loss 0.023675202085743287 \n",
            "dev_test acc 0.8637913685152058, dev_test loss 0.33547157979147985\n",
            "Training Epoch\n"
          ]
        },
        {
          "name": "stderr",
          "output_type": "stream",
          "text": [
            "100%|██████████| 637/637 [00:02<00:00, 246.98it/s]\n"
          ]
        },
        {
          "name": "stdout",
          "output_type": "stream",
          "text": [
            "Evaluating Epoch\n"
          ]
        },
        {
          "name": "stderr",
          "output_type": "stream",
          "text": [
            "100%|██████████| 86/86 [00:00<00:00, 266.68it/s]\n"
          ]
        },
        {
          "name": "stdout",
          "output_type": "stream",
          "text": [
            "Epoch 4: Epoch Acc 0.9962225274725275, Epoch Loss 0.01637460582442231 \n",
            "dev_test acc 0.849983228980322, dev_test loss 0.3872820629134536\n",
            "Training Epoch\n"
          ]
        },
        {
          "name": "stderr",
          "output_type": "stream",
          "text": [
            "100%|██████████| 637/637 [00:02<00:00, 244.51it/s]\n"
          ]
        },
        {
          "name": "stdout",
          "output_type": "stream",
          "text": [
            "Evaluating Epoch\n"
          ]
        },
        {
          "name": "stderr",
          "output_type": "stream",
          "text": [
            "100%|██████████| 86/86 [00:00<00:00, 259.70it/s]\n"
          ]
        },
        {
          "name": "stdout",
          "output_type": "stream",
          "text": [
            "Epoch 5: Epoch Acc 0.9970074568288854, Epoch Loss 0.012830533633875593 \n",
            "dev_test acc 0.8412622987477639, dev_test loss 0.4337893124313776\n",
            "Training Epoch\n"
          ]
        },
        {
          "name": "stderr",
          "output_type": "stream",
          "text": [
            "100%|██████████| 637/637 [00:02<00:00, 239.33it/s]\n"
          ]
        },
        {
          "name": "stdout",
          "output_type": "stream",
          "text": [
            "Evaluating Epoch\n"
          ]
        },
        {
          "name": "stderr",
          "output_type": "stream",
          "text": [
            "100%|██████████| 86/86 [00:00<00:00, 252.91it/s]\n"
          ]
        },
        {
          "name": "stdout",
          "output_type": "stream",
          "text": [
            "Epoch 6: Epoch Acc 0.997350863422292, Epoch Loss 0.010976134049483199 \n",
            "dev_test acc 0.8205500894454383, dev_test loss 0.49347923014673056\n",
            "Training Epoch\n"
          ]
        },
        {
          "name": "stderr",
          "output_type": "stream",
          "text": [
            "100%|██████████| 637/637 [00:02<00:00, 236.74it/s]\n"
          ]
        },
        {
          "name": "stdout",
          "output_type": "stream",
          "text": [
            "Evaluating Epoch\n"
          ]
        },
        {
          "name": "stderr",
          "output_type": "stream",
          "text": [
            "100%|██████████| 86/86 [00:00<00:00, 241.24it/s]\n"
          ]
        },
        {
          "name": "stdout",
          "output_type": "stream",
          "text": [
            "Epoch 7: Epoch Acc 0.9973999215070644, Epoch Loss 0.009890172666962531 \n",
            "dev_test acc 0.8134783094812165, dev_test loss 0.534631290517715\n",
            "Training Epoch\n"
          ]
        },
        {
          "name": "stderr",
          "output_type": "stream",
          "text": [
            "100%|██████████| 637/637 [00:02<00:00, 230.65it/s]\n"
          ]
        },
        {
          "name": "stdout",
          "output_type": "stream",
          "text": [
            "Evaluating Epoch\n"
          ]
        },
        {
          "name": "stderr",
          "output_type": "stream",
          "text": [
            "100%|██████████| 86/86 [00:00<00:00, 253.96it/s]\n"
          ]
        },
        {
          "name": "stdout",
          "output_type": "stream",
          "text": [
            "Epoch 8: Epoch Acc 0.9974489795918368, Epoch Loss 0.009288432121668319 \n",
            "dev_test acc 0.8087544722719141, dev_test loss 0.5712292452608804\n",
            "Training Epoch\n"
          ]
        },
        {
          "name": "stderr",
          "output_type": "stream",
          "text": [
            "100%|██████████| 637/637 [00:02<00:00, 253.58it/s]\n"
          ]
        },
        {
          "name": "stdout",
          "output_type": "stream",
          "text": [
            "Evaluating Epoch\n"
          ]
        },
        {
          "name": "stderr",
          "output_type": "stream",
          "text": [
            "100%|██████████| 86/86 [00:00<00:00, 272.83it/s]"
          ]
        },
        {
          "name": "stdout",
          "output_type": "stream",
          "text": [
            "Epoch 9: Epoch Acc 0.9976942700156985, Epoch Loss 0.008878347903615802 \n",
            "dev_test acc 0.8040306350626117, dev_test loss 0.6131637334677412\n"
          ]
        },
        {
          "name": "stderr",
          "output_type": "stream",
          "text": [
            "\n"
          ]
        }
      ],
      "source": [
        "NO_EPOCHS = 10\n",
        "best_model = None\n",
        "best_acc = -1\n",
        "\n",
        "train_losses =[]\n",
        "dev_losses = []\n",
        "\n",
        "train_accs = []\n",
        "dev_accs = []\n",
        "\n",
        "for i in range(NO_EPOCHS):\n",
        "    print(\"Training Epoch\")\n",
        "    epoch_loss, epoch_acc = train_classifier_epoch(\n",
        "        model=classifier_model,\n",
        "        iterator=train_loader,\n",
        "        optimizer=classifier_optimizer,\n",
        "        criterion=bce_loss,\n",
        "        device=DEVICE\n",
        "     )\n",
        "    \n",
        "    print(\"Evaluating Epoch\")\n",
        "    dev_loss, dev_acc = evaluate_classifier_epoch(\n",
        "        model=classifier_model,\n",
        "        iterator=dev_loader,\n",
        "        criterion=bce_loss,\n",
        "        device=DEVICE\n",
        "    )\n",
        "\n",
        "    train_losses.append(epoch_loss)\n",
        "    dev_losses.append(dev_loss)\n",
        "    dev_accs.append(dev_acc)\n",
        "    train_accs.append(epoch_acc)\n",
        "\n",
        "    print(f\"Epoch {i}: Epoch Acc {epoch_acc}, Epoch Loss {epoch_loss} \\ndev_test acc {dev_acc}, dev_test loss {dev_loss}\")\n",
        "\n",
        "    if best_acc < dev_acc:\n",
        "        best_acc = dev_acc\n",
        "        best_model = copy.deepcopy(classifier_model.state_dict())\n"
      ]
    },
    {
      "cell_type": "code",
      "execution_count": 61,
      "metadata": {},
      "outputs": [
        {
          "data": {
            "image/png": "[encoded data removed]",
            "text/plain": [
              "<Figure size 640x480 with 1 Axes>"
            ]
          },
          "metadata": {},
          "output_type": "display_data"
        },
        {
          "data": {
            "image/png": "[encoded data removed]",
            "text/plain": [
              "<Figure size 640x480 with 1 Axes>"
            ]
          },
          "metadata": {},
          "output_type": "display_data"
        }
      ],
      "source": [
        "plt.plot(train_losses, label='Training Loss')\n",
        "plt.plot(dev_losses, label='DevTest Loss')\n",
        "\n",
        "plt.xlabel('Epoch')\n",
        "plt.ylabel('Loss')\n",
        "plt.title('Training Loss Comparison')\n",
        "plt.legend()\n",
        "plt.grid(True)\n",
        "plt.show()\n",
        "\n",
        "plt.plot(train_accs, label='Training Accuracy')\n",
        "plt.plot(dev_accs, label='DevTest Accuracy')\n",
        "\n",
        "plt.xlabel('Epoch')\n",
        "plt.ylabel('Loss')\n",
        "plt.title('Training Accuracy Comparison')\n",
        "plt.legend()\n",
        "plt.grid(True)\n",
        "plt.show()"
      ]
    },
    {
      "cell_type": "markdown",
      "metadata": {},
      "source": [
        "### Test Accuracy"
      ]
    },
    {
      "cell_type": "code",
      "execution_count": 62,
      "metadata": {},
      "outputs": [
        {
          "name": "stderr",
          "output_type": "stream",
          "text": [
            "100%|██████████| 193/193 [00:00<00:00, 261.75it/s]"
          ]
        },
        {
          "name": "stdout",
          "output_type": "stream",
          "text": [
            "Loss: 0.2007224720376761     Accuracy: 0.9525582901554405\n"
          ]
        },
        {
          "name": "stderr",
          "output_type": "stream",
          "text": [
            "\n"
          ]
        }
      ],
      "source": [
        "classifier_model.load_state_dict(best_model)\n",
        "\n",
        "loss, acc = evaluate_classifier_epoch(classifier_model, test_loader, bce_loss, DEVICE)\n",
        "\n",
        "print(f\"Loss: {loss}     Accuracy: {acc}\")"
      ]
    },
    {
      "cell_type": "markdown",
      "metadata": {},
      "source": [
        "### Faliure Case Analsys"
      ]
    },
    {
      "cell_type": "code",
      "execution_count": 63,
      "metadata": {},
      "outputs": [
        {
          "name": "stdout",
          "output_type": "stream",
          "text": [
            "Faliure Case Analysys\n",
            "Tensor Input 1: tensor([0., 0., 0.,  ..., 0., 0., 0.])\n",
            "\n",
            "Input 1: HOW AFRICAN AMERICANS WERE IMMIGRATED TO THE US\n",
            "Input 1 - preprosesed: african american immigr us\n",
            "\n",
            "Tensor Input 2: tensor([0., 0., 0.,  ..., 0., 0., 0.])\n",
            "Input 2: As such, African immigrants are to be distinguished from African American people, the latter of whom are descendants of mostly West and Central Africans who were involuntarily brought to the United States by means of the historic Atlantic slave trade .\n",
            "Input 2 - preprosesed: , african immigr distinguish african american peopl , latter descend mostli west central african involuntarili brought unit state mean histor atlant slave trade .\n",
            "\n",
            "True label: 1.0\n",
            "Predicted label: 0.0\n",
            "Confidence: 0.10472675412893295\n"
          ]
        }
      ],
      "source": [
        "classifier_model.eval()\n",
        "\n",
        "for ids1, ids2, labels in test_loader:\n",
        "    ids1, ids2, labels = ids1.to(DEVICE), ids2.to(DEVICE), labels.to(DEVICE)\n",
        "    \n",
        "    with torch.no_grad():\n",
        "        predictions = classifier_model(ids1, ids2)\n",
        "        preds_np = torch.round(predictions).detach().cpu().numpy()\n",
        "        labels_np = labels.detach().cpu().numpy()\n",
        "    \n",
        "    # Find a mismatch\n",
        "    for i in range(len(labels_np)):\n",
        "        if preds_np[i] != labels_np[i]:\n",
        "            print(\"Faliure Case Analysys\")\n",
        "\n",
        "            print(f\"Tensor Input 1: {ids1[i]}\\n\")\n",
        "            print(f\"Input 1: {test_data.question.iloc[i]}\")\n",
        "            print(f\"Input 1 - preprosesed: {test_data.preprocessed_question.iloc[i]}\\n\")\n",
        "\n",
        "            print(f\"Tensor Input 2: {ids2[i]}\")\n",
        "            print(f\"Input 2: {test_data.answer.iloc[i]}\")\n",
        "            print(f\"Input 2 - preprosesed: {test_data.preprocessed_answer.iloc[i]}\\n\")\n",
        "\n",
        "            print(\"True label:\", labels_np[i].item())\n",
        "            print(\"Predicted label:\", preds_np[i].item())\n",
        "            print(\"Confidence:\", predictions[i].item())\n",
        "            break\n",
        "    break"
      ]
    },
    {
      "cell_type": "markdown",
      "metadata": {},
      "source": [
        "This error likely occurred because the Siamese model, is more sensitive to surface-level differences than semantic relations. Although both inputs refer to the historical migration of African Americans to the U.S., the wording and structure and length differ significantly. The Siamese network may not have captured their semantic similarity effectively. Additionally, preprocessing may have removed helpful context or altered important tokens, making it harder for the classifier to correctly interpret the relationship between the question and answer.\n",
        "\n",
        "It is worth noting that the accuracy of the model is very similar to 80%, which it would get if it only guessed that nothing was an answer. As the ratio of incorrect ansers to correct answers is 4:1 that model will be heavily biased towards categorizing everything as an incorrect answer which would of had some input here."
      ]
    },
    {
      "cell_type": "markdown",
      "metadata": {
        "id": "mSPdEV5bFzNm"
      },
      "source": [
        "## Task 3 (10 marks): Transformer-Based Sentence Classification (PyTorch)\n",
        "\n",
        "* Preprocess input as: question [SEP] answer, pad to a fixed length (justify your choice of length).\n",
        "\n",
        "* Use a suitable tokenizer (justify your choice).\n",
        "\n",
        "* Build a Transformer model in PyTorch:\n",
        "\n",
        "    * Embedding layer (size 128) + positional embeddings.\n",
        "\n",
        "    * One Transformer encoder layer (hidden dim in {64, 128, 256}, 4 attention heads).\n",
        "\n",
        "    * One hidden layer (256 units, ReLU).\n",
        "\n",
        "    * Use suitable final layer for classification\n",
        "    \n",
        "  \n",
        "* Apply Global Average Pooling to the output sequence of the Transformer encoder layer.\n",
        "  \n",
        "* Use an appropriate loss function (e.g., CrossEntropyLoss).\n",
        "\n",
        "* Train and evaluate on the test split.\n",
        "\n",
        "* Report best accuracy, precision, recall, F1-score, and discuss a failure case, with supporting code output.\n",
        "\n",
        "**Mark breakdown:**\n",
        "\n",
        "* (5 marks) Correct implementation: input preparation, tokenizer, transformer model, training setup.\n",
        "\n",
        "* (4.5 marks) Proper evaluation: metric reporting, failure case analysis with discussion.\n",
        "\n",
        "* (0.5 mark) Good coding style: : clean, modular code, meaningful variable names, and good comments.\n",
        "\n",
        "<!-- * (1.5 marks) Correct input preparation and tokenizer choice (with justification).\n",
        "\n",
        "* (2 marks) Transformer architecture implementation.\n",
        "\n",
        "* (2 marks) Training setup, loss function, and optimizer.\n",
        "\n",
        "* (2 marks) Evaluation and correct metric reporting.\n",
        "\n",
        "* (2 marks) Failure case analysis and suggestions.\n",
        "\n",
        "* (0.5 mark) For good coding style: clean, modular code, meaningful variable names, and good comments. -->\n"
      ]
    },
    {
      "cell_type": "code",
      "execution_count": null,
      "metadata": {
        "id": "3KvddjdYB1ln"
      },
      "outputs": [],
      "source": [
        "from transformers import BertTokenizer\n",
        "from torch.utils.data import TensorDataset\n",
        "\n",
        "MAX_LEN = 128 # Smaller size as Im running on my laptop on low battery,\n",
        "# but the smaller size should be okay with the preprosessed input and im optimising for training time\n",
        "\n",
        "BATCH_SIZE = 32 # Smaller batch size as I'm running this on a laptop\n",
        "NO_EPOCHS = 10\n",
        "HIDDEN_SIZE = 128\n",
        "LR = 1e-3\n"
      ]
    },
    {
      "cell_type": "markdown",
      "metadata": {},
      "source": [
        "> I have decided to use Bert Tokenizer for the primary reason that it supports special characters such as `[SEP]` which is both usefull in this context and required by the task definition."
      ]
    },
    {
      "cell_type": "code",
      "execution_count": 65,
      "metadata": {},
      "outputs": [],
      "source": [
        "tokenizer = BertTokenizer.from_pretrained('bert-base-uncased')\n",
        "\n",
        "def encode_to_dataset(questions, answers, labels, max_length=128):\n",
        "    texts = questions + \" [SEP] \" + answers\n",
        "    \n",
        "    encodings = tokenizer(\n",
        "        texts.tolist(),\n",
        "        padding='max_length',\n",
        "        truncation=True,\n",
        "        max_length=max_length,\n",
        "        return_tensors='pt'\n",
        "    )\n",
        "    return TensorDataset(\n",
        "        encodings['input_ids'],\n",
        "        encodings['attention_mask'],\n",
        "        torch.tensor(labels.tolist())\n",
        "    )"
      ]
    },
    {
      "cell_type": "markdown",
      "metadata": {},
      "source": [
        "### Define the transformer block"
      ]
    },
    {
      "cell_type": "code",
      "execution_count": null,
      "metadata": {},
      "outputs": [],
      "source": [
        "class TransformerModel(nn.Module):\n",
        "    def __init__(self, vocab_size):\n",
        "        super().__init__()\n",
        "        self.embed = nn.Embedding(vocab_size, HIDDEN_SIZE)\n",
        "        self.pos_embed = nn.Parameter(torch.randn(1, MAX_LEN, HIDDEN_SIZE))\n",
        "        encoder_layer = nn.TransformerEncoderLayer(\n",
        "            d_model=HIDDEN_SIZE, nhead=4, dim_feedforward=128, batch_first=True\n",
        "        )\n",
        "        self.encoder = nn.TransformerEncoder(encoder_layer, num_layers=1)\n",
        "        self.fc = nn.Sequential(\n",
        "            nn.Linear(HIDDEN_SIZE, 256),\n",
        "            nn.ReLU(),\n",
        "            nn.Linear(256, 1) # One output\n",
        "        )\n",
        "\n",
        "    def forward(self, input_ids, attention_mask):\n",
        "        x = self.embed(input_ids) + self.pos_embed[:, :input_ids.size(1)]\n",
        "        x = self.encoder(x, src_key_padding_mask=~attention_mask.bool())\n",
        "        x = x.mean(dim=1)  # Global average pooling\n",
        "        logits = self.fc(x).squeeze(-1)\n",
        "        return logits"
      ]
    },
    {
      "cell_type": "markdown",
      "metadata": {},
      "source": [
        "### Defining Training and Evalutaion functions"
      ]
    },
    {
      "cell_type": "code",
      "execution_count": null,
      "metadata": {},
      "outputs": [],
      "source": [
        "from sklearn.metrics import accuracy_score, precision_score, recall_score, f1_score\n",
        "\n",
        "\n",
        "def train_transformer_epoch(model, iterator, optimizer, criterion, device):\n",
        "    epoch_loss = 0\n",
        "    epoch_acc = 0\n",
        "    model.train()\n",
        "\n",
        "    for input_ids, attention_mask, labels in tqdm(iterator, total=len(iterator)):\n",
        "        input_ids = input_ids.to(device)\n",
        "        attention_mask = attention_mask.to(device)\n",
        "        labels = labels.to(device)\n",
        "\n",
        "        optimizer.zero_grad()\n",
        "        predictions = model(input_ids, attention_mask)\n",
        "\n",
        "\n",
        "        loss = criterion(predictions, labels.float())\n",
        "\n",
        "        # Convert predictions to probabilities with sigmoid, then round for accuracy\n",
        "        preds_prob = torch.sigmoid(predictions).squeeze(-1)\n",
        "        preds_np = torch.round(preds_prob).detach().cpu().numpy()\n",
        "        labels_np = labels.detach().cpu().numpy()\n",
        "\n",
        "\n",
        "        acc = accuracy_score(labels_np, preds_np)\n",
        "\n",
        "        loss.backward()\n",
        "        optimizer.step()\n",
        "\n",
        "        epoch_loss += loss.item()\n",
        "        epoch_acc += acc\n",
        "\n",
        "    return epoch_loss / len(iterator), epoch_acc / len(iterator)\n",
        "\n",
        "\n",
        "def evaluate_transformer_epoch(model, iterator, criterion, device):\n",
        "    epoch_loss = 0\n",
        "    all_preds = []\n",
        "    all_labels = []\n",
        "\n",
        "    model.eval()\n",
        "\n",
        "    with torch.no_grad():\n",
        "        for input_ids, attention_mask, labels in tqdm(iterator, total=len(iterator)):\n",
        "            input_ids = input_ids.to(device)\n",
        "            attention_mask = attention_mask.to(device)\n",
        "            labels = labels.to(device)\n",
        "\n",
        "            predictions = model(input_ids, attention_mask)\n",
        "\n",
        "            loss = criterion(predictions.squeeze(-1), labels.float())\n",
        "            epoch_loss += loss.item()\n",
        "\n",
        "            preds_prob = torch.sigmoid(predictions).squeeze(-1)\n",
        "            preds = torch.round(preds_prob)\n",
        "\n",
        "            all_preds.extend(preds.detach().cpu().numpy())\n",
        "            all_labels.extend(labels.detach().cpu().numpy())\n",
        "\n",
        "    accuracy = accuracy_score(all_labels, all_preds)\n",
        "    precision = precision_score(all_labels, all_preds, zero_division=0)\n",
        "    recall = recall_score(all_labels, all_preds, zero_division=0)\n",
        "    f1 = f1_score(all_labels, all_preds, zero_division=0)\n",
        "\n",
        "    return epoch_loss / len(iterator), accuracy, precision, recall, f1"
      ]
    },
    {
      "cell_type": "markdown",
      "metadata": {},
      "source": [
        "### Preprosessing Data and Creating Dataloaders"
      ]
    },
    {
      "cell_type": "code",
      "execution_count": 68,
      "metadata": {},
      "outputs": [],
      "source": [
        "encoded_train = encode_to_dataset(train_data[\"question\"], train_data[\"answer\"], train_data[\"label\"], max_length=MAX_LEN)\n",
        "encoded_dev = encode_to_dataset(dev_data[\"question\"], dev_data[\"answer\"], dev_data[\"label\"], max_length=MAX_LEN)\n",
        "encoded_test = encode_to_dataset(test_data[\"question\"], test_data[\"answer\"], test_data[\"label\"], max_length=MAX_LEN)\n",
        "\n",
        "train_loader = DataLoader(encoded_train, batch_size=BATCH_SIZE, shuffle=True)\n",
        "dev_loader = DataLoader(encoded_dev,batch_size=BATCH_SIZE)\n",
        "test_loader = DataLoader(encoded_test, batch_size=BATCH_SIZE)"
      ]
    },
    {
      "cell_type": "markdown",
      "metadata": {},
      "source": [
        "### Initalizing and training the model"
      ]
    },
    {
      "cell_type": "code",
      "execution_count": 69,
      "metadata": {},
      "outputs": [
        {
          "name": "stdout",
          "output_type": "stream",
          "text": [
            "Training Epoch: 0\n"
          ]
        },
        {
          "name": "stderr",
          "output_type": "stream",
          "text": [
            "100%|██████████| 637/637 [00:23<00:00, 27.07it/s]\n"
          ]
        },
        {
          "name": "stdout",
          "output_type": "stream",
          "text": [
            "Evaluating Epoch\n"
          ]
        },
        {
          "name": "stderr",
          "output_type": "stream",
          "text": [
            "100%|██████████| 86/86 [00:00<00:00, 126.33it/s]\n"
          ]
        },
        {
          "name": "stdout",
          "output_type": "stream",
          "text": [
            "Epoch 0: Train Acc= 0.9318583202511774, Train Loss= 5.414059974522194\n",
            "Dev Acc= 0.9290157336260519, Dev Loss= 5.6183704747710115, Dev Precision= 0.09090909090909091, Dev Recal= 0.04285714285714286, Dev F1 = 0.05825242718446602\n",
            "Training Epoch: 1\n"
          ]
        },
        {
          "name": "stderr",
          "output_type": "stream",
          "text": [
            "100%|██████████| 637/637 [00:23<00:00, 27.40it/s]\n"
          ]
        },
        {
          "name": "stdout",
          "output_type": "stream",
          "text": [
            "Evaluating Epoch\n"
          ]
        },
        {
          "name": "stderr",
          "output_type": "stream",
          "text": [
            "100%|██████████| 86/86 [00:00<00:00, 118.39it/s]\n"
          ]
        },
        {
          "name": "stdout",
          "output_type": "stream",
          "text": [
            "Epoch 1: Train Acc= 0.9489795918367347, Train Loss= 4.92965074723332\n",
            "Dev Acc= 0.8598609586534943, Dev Loss= 5.6125200931416, Dev Precision= 0.10679611650485436, Dev Recal= 0.2357142857142857, Dev F1 = 0.14699331848552338\n",
            "Training Epoch: 2\n"
          ]
        },
        {
          "name": "stderr",
          "output_type": "stream",
          "text": [
            "100%|██████████| 637/637 [00:23<00:00, 26.95it/s]\n"
          ]
        },
        {
          "name": "stdout",
          "output_type": "stream",
          "text": [
            "Evaluating Epoch\n"
          ]
        },
        {
          "name": "stderr",
          "output_type": "stream",
          "text": [
            "100%|██████████| 86/86 [00:00<00:00, 122.61it/s]\n"
          ]
        },
        {
          "name": "stdout",
          "output_type": "stream",
          "text": [
            "Epoch 2: Train Acc= 0.9488324175824175, Train Loss= 4.396731917160085\n",
            "Dev Acc= 0.5909257226491036, Dev Loss= 5.776680827140808, Dev Precision= 0.06494661921708185, Dev Recal= 0.5214285714285715, Dev F1 = 0.11550632911392406\n",
            "Training Epoch: 3\n"
          ]
        },
        {
          "name": "stderr",
          "output_type": "stream",
          "text": [
            "100%|██████████| 637/637 [00:23<00:00, 26.70it/s]\n"
          ]
        },
        {
          "name": "stdout",
          "output_type": "stream",
          "text": [
            "Evaluating Epoch\n"
          ]
        },
        {
          "name": "stderr",
          "output_type": "stream",
          "text": [
            "100%|██████████| 86/86 [00:00<00:00, 123.71it/s]\n"
          ]
        },
        {
          "name": "stdout",
          "output_type": "stream",
          "text": [
            "Epoch 3: Train Acc= 0.9489795918367347, Train Loss= 3.8371726419759136\n",
            "Dev Acc= 0.8770581778265643, Dev Loss= 6.319477203280427, Dev Precision= 0.09504132231404959, Dev Recal= 0.16428571428571428, Dev F1 = 0.12041884816753927\n",
            "Training Epoch: 4\n"
          ]
        },
        {
          "name": "stderr",
          "output_type": "stream",
          "text": [
            "100%|██████████| 637/637 [00:24<00:00, 26.14it/s]\n"
          ]
        },
        {
          "name": "stdout",
          "output_type": "stream",
          "text": [
            "Evaluating Epoch\n"
          ]
        },
        {
          "name": "stderr",
          "output_type": "stream",
          "text": [
            "100%|██████████| 86/86 [00:00<00:00, 112.67it/s]\n"
          ]
        },
        {
          "name": "stdout",
          "output_type": "stream",
          "text": [
            "Epoch 4: Train Acc= 0.9489795918367347, Train Loss= 3.210210475994616\n",
            "Dev Acc= 0.8873033296743505, Dev Loss= 6.575012003266534, Dev Precision= 0.10377358490566038, Dev Recal= 0.15714285714285714, Dev F1 = 0.125\n",
            "Training Epoch: 5\n"
          ]
        },
        {
          "name": "stderr",
          "output_type": "stream",
          "text": [
            "100%|██████████| 637/637 [00:24<00:00, 26.22it/s]\n"
          ]
        },
        {
          "name": "stdout",
          "output_type": "stream",
          "text": [
            "Evaluating Epoch\n"
          ]
        },
        {
          "name": "stderr",
          "output_type": "stream",
          "text": [
            "100%|██████████| 86/86 [00:00<00:00, 104.42it/s]\n"
          ]
        },
        {
          "name": "stdout",
          "output_type": "stream",
          "text": [
            "Epoch 5: Train Acc= 0.9490777080062794, Train Loss= 2.8298109921990795\n",
            "Dev Acc= 0.884742041712404, Dev Loss= 6.973030963609385, Dev Precision= 0.10407239819004525, Dev Recal= 0.16428571428571428, Dev F1 = 0.12742382271468145\n",
            "Training Epoch: 6\n"
          ]
        },
        {
          "name": "stderr",
          "output_type": "stream",
          "text": [
            "100%|██████████| 637/637 [00:23<00:00, 26.91it/s]\n"
          ]
        },
        {
          "name": "stdout",
          "output_type": "stream",
          "text": [
            "Evaluating Epoch\n"
          ]
        },
        {
          "name": "stderr",
          "output_type": "stream",
          "text": [
            "100%|██████████| 86/86 [00:00<00:00, 120.05it/s]\n"
          ]
        },
        {
          "name": "stdout",
          "output_type": "stream",
          "text": [
            "Epoch 6: Train Acc= 0.9489795918367347, Train Loss= 2.474087935520023\n",
            "Dev Acc= 0.7983900475667765, Dev Loss= 6.2370755422947015, Dev Precision= 0.07453416149068323, Dev Recal= 0.2571428571428571, Dev F1 = 0.11556982343499198\n",
            "Training Epoch: 7\n"
          ]
        },
        {
          "name": "stderr",
          "output_type": "stream",
          "text": [
            "100%|██████████| 637/637 [00:23<00:00, 27.17it/s]\n"
          ]
        },
        {
          "name": "stdout",
          "output_type": "stream",
          "text": [
            "Evaluating Epoch\n"
          ]
        },
        {
          "name": "stderr",
          "output_type": "stream",
          "text": [
            "100%|██████████| 86/86 [00:00<00:00, 116.25it/s]\n"
          ]
        },
        {
          "name": "stdout",
          "output_type": "stream",
          "text": [
            "Epoch 7: Train Acc= 0.9506475667189953, Train Loss= 2.1321112606440504\n",
            "Dev Acc= 0.9099890230515917, Dev Loss= 8.28597076687702, Dev Precision= 0.12142857142857143, Dev Recal= 0.12142857142857143, Dev F1 = 0.12142857142857143\n",
            "Training Epoch: 8\n"
          ]
        },
        {
          "name": "stderr",
          "output_type": "stream",
          "text": [
            "100%|██████████| 637/637 [00:24<00:00, 26.52it/s]\n"
          ]
        },
        {
          "name": "stdout",
          "output_type": "stream",
          "text": [
            "Evaluating Epoch\n"
          ]
        },
        {
          "name": "stderr",
          "output_type": "stream",
          "text": [
            "100%|██████████| 86/86 [00:00<00:00, 122.51it/s]\n"
          ]
        },
        {
          "name": "stdout",
          "output_type": "stream",
          "text": [
            "Epoch 8: Train Acc= 0.9543759811616954, Train Loss= 2.0199968231157683\n",
            "Dev Acc= 0.9462129527991219, Dev Loss= 7.805317274359769, Dev Precision= 0.0, Dev Recal= 0.0, Dev F1 = 0.0\n",
            "Training Epoch: 9\n"
          ]
        },
        {
          "name": "stderr",
          "output_type": "stream",
          "text": [
            "100%|██████████| 637/637 [00:23<00:00, 27.27it/s]\n"
          ]
        },
        {
          "name": "stdout",
          "output_type": "stream",
          "text": [
            "Evaluating Epoch\n"
          ]
        },
        {
          "name": "stderr",
          "output_type": "stream",
          "text": [
            "100%|██████████| 86/86 [00:00<00:00, 119.13it/s]"
          ]
        },
        {
          "name": "stdout",
          "output_type": "stream",
          "text": [
            "Epoch 9: Train Acc= 0.9534438775510204, Train Loss= 1.8554310615732243\n",
            "Dev Acc= 0.9301134284668862, Dev Loss= 8.648364322130071, Dev Precision= 0.09523809523809523, Dev Recal= 0.04285714285714286, Dev F1 = 0.059113300492610835\n"
          ]
        },
        {
          "name": "stderr",
          "output_type": "stream",
          "text": [
            "\n"
          ]
        }
      ],
      "source": [
        "#suppressing warnings, given to me by chatgpt when I gave it the error message\n",
        "import warnings\n",
        "warnings.filterwarnings(\"ignore\", category=UserWarning, module=\"torch.nn.modules.transformer\")\n",
        "\n",
        "\n",
        "model = TransformerModel(vocab_size=tokenizer.vocab_size).to(DEVICE)\n",
        "optimizer = torch.optim.Adam(model.parameters(), lr=LR)\n",
        "loss_fn = nn.CrossEntropyLoss()\n",
        "\n",
        "best_acc = -1\n",
        "best_model = None\n",
        "\n",
        "\n",
        "epoch_accs = []\n",
        "epoch_losses = []\n",
        "\n",
        "dev_accs = []\n",
        "dev_losses = []\n",
        "dev_presicisons = []\n",
        "dev_recals = []\n",
        "dev_f1s = []\n",
        "\n",
        "for i in range(NO_EPOCHS):\n",
        "    print(f\"Training Epoch: {i}\")\n",
        "    epoch_loss, epoch_acc = train_transformer_epoch(\n",
        "        model= model,\n",
        "        iterator= train_loader,\n",
        "        optimizer= optimizer,\n",
        "        criterion= loss_fn,\n",
        "        device= DEVICE\n",
        "    )\n",
        "\n",
        "    print(f\"Evaluating Epoch\")\n",
        "    dev_results = evaluate_transformer_epoch(\n",
        "        model= model,\n",
        "        iterator= dev_loader,\n",
        "        criterion= loss_fn,\n",
        "        device= DEVICE\n",
        "    )\n",
        "    dev_loss, dev_acc, dev_pres, dev_rec, dev_f1 = dev_results\n",
        "\n",
        "    print(f\"Epoch {i}: Train Acc= {epoch_acc}, Train Loss= {epoch_loss}\")\n",
        "    print(f\"Dev Acc= {dev_acc}, Dev Loss= {dev_loss}, Dev Precision= {dev_pres}, Dev Recal= {dev_rec}, Dev F1 = {dev_f1}\")\n",
        "\n",
        "    epoch_accs.append(epoch_acc)\n",
        "    epoch_losses.append(epoch_loss)\n",
        "\n",
        "    dev_accs.append(dev_acc)\n",
        "    dev_losses.append(dev_loss)\n",
        "    dev_presicisons.append(dev_pres)\n",
        "    dev_recals.append(dev_rec)\n",
        "    dev_f1s.append(dev_f1)\n",
        "\n",
        "    if dev_acc > best_acc:\n",
        "        best_acc = dev_acc\n",
        "        best_model = copy.deepcopy(model.state_dict())"
      ]
    },
    {
      "cell_type": "code",
      "execution_count": 70,
      "metadata": {},
      "outputs": [
        {
          "name": "stderr",
          "output_type": "stream",
          "text": [
            "100%|██████████| 86/86 [00:00<00:00, 118.57it/s]"
          ]
        },
        {
          "name": "stdout",
          "output_type": "stream",
          "text": [
            "\n",
            "    Best Model Evaluration:\n",
            "    Accuracy: 0.9462129527991219\n",
            "    Loss: 7.805317274359769\n",
            "    Presicison: 0.0\n",
            "    Recal: 0.0\n",
            "    F1: 0.0\n",
            "      \n"
          ]
        },
        {
          "name": "stderr",
          "output_type": "stream",
          "text": [
            "\n"
          ]
        }
      ],
      "source": [
        "model.load_state_dict(best_model)\n",
        "\n",
        "results = evaluate_transformer_epoch(\n",
        "    model= model,\n",
        "    iterator= dev_loader,\n",
        "    criterion= loss_fn,\n",
        "    device= DEVICE\n",
        ")\n",
        "\n",
        "loss, acc, pres, rec, f1 = results\n",
        "\n",
        "print(f\"\"\"\n",
        "    Best Model Evaluration:\n",
        "    Accuracy: {acc}\n",
        "    Loss: {loss}\n",
        "    Presicison: {pres}\n",
        "    Recal: {rec}\n",
        "    F1: {f1}\n",
        "      \"\"\")"
      ]
    },
    {
      "cell_type": "markdown",
      "metadata": {},
      "source": [
        "### Faliure Case Analysis"
      ]
    },
    {
      "cell_type": "code",
      "execution_count": 71,
      "metadata": {},
      "outputs": [
        {
          "name": "stdout",
          "output_type": "stream",
          "text": [
            "Failure Case Analysis\n",
            "\n",
            "Original Question: HOW AFRICAN AMERICANS WERE IMMIGRATED TO THE US\n",
            "Preprocessed Question: african american immigr us\n",
            "\n",
            "Original Answer: As such, African immigrants are to be distinguished from African American people, the latter of whom are descendants of mostly West and Central Africans who were involuntarily brought to the United States by means of the historic Atlantic slave trade .\n",
            "Preprocessed Answer: , african immigr distinguish african american peopl , latter descend mostli west central african involuntarili brought unit state mean histor atlant slave trade .\n",
            "\n",
            "True Label: 1\n",
            "Predicted Label: 0\n",
            "Model Confidence: 0.055875264108181\n"
          ]
        }
      ],
      "source": [
        "model.eval()\n",
        "\n",
        "for input_ids, attention_mask, labels in test_loader:\n",
        "    input_ids = input_ids.to(DEVICE)\n",
        "    attention_mask = attention_mask.to(DEVICE)\n",
        "    labels = labels.to(DEVICE)\n",
        "\n",
        "    with torch.no_grad():\n",
        "        predictions = model(input_ids, attention_mask)\n",
        "        probs = torch.sigmoid(predictions).squeeze(-1)\n",
        "        preds = torch.round(probs)\n",
        "\n",
        "    preds_np = preds.detach().cpu().numpy()\n",
        "    labels_np = labels.detach().cpu().numpy()\n",
        "    probs_np = probs.detach().cpu().numpy()\n",
        "\n",
        "    for i in range(len(labels_np)):\n",
        "        if preds_np[i] != labels_np[i]:\n",
        "            print(\"Failure Case Analysis\\n\")\n",
        "\n",
        "            print(f\"Original Question: {test_data.question.iloc[i]}\")\n",
        "            print(f\"Preprocessed Question: {test_data.preprocessed_question.iloc[i]}\\n\")\n",
        "\n",
        "            print(f\"Original Answer: {test_data.answer.iloc[i]}\")\n",
        "            print(f\"Preprocessed Answer: {test_data.preprocessed_answer.iloc[i]}\\n\")\n",
        "\n",
        "            print(f\"True Label: {int(labels_np[i])}\")\n",
        "            print(f\"Predicted Label: {int(preds_np[i])}\")\n",
        "            print(f\"Model Confidence: {probs_np[i]}\")\n",
        "            break\n",
        "    break"
      ]
    },
    {
      "cell_type": "markdown",
      "metadata": {},
      "source": [
        "This output is very similar to the previous faliure case analysis, I belive that the primary reason for these is the same. There is a large amount of bias in the dataset so anything that is not obviously syntatcticly related is just also assued to be false. In the case of this faliure in particular there gap between the styles of the text and answer is very large and thus the model defaults to assuming that it is not true. The model is quite confident in this decison."
      ]
    },
    {
      "cell_type": "markdown",
      "metadata": {
        "id": "dWRYOTk8B5oB"
      },
      "source": [
        "# Submission\n",
        "\n",
        "Your submission should consist of this Jupyter notebook with all your code and explanations inserted into the notebook as text cells. **The notebook should contain the output of the runs. All code should run. Code with syntax errors or code without output will not be assessed.**\n",
        "\n",
        "**Do not submit multiple files.**\n",
        "\n",
        "Examine the text cells of this notebook so that you can have an idea of how to format text for good visual impact. You can also read this useful [guide to the MarkDown notation](https://daringfireball.net/projects/markdown/syntax),  which explains the format of the text cells."
      ]
    },
    {
      "cell_type": "markdown",
      "metadata": {
        "id": "Gx7RGfmj0QGH"
      },
      "source": [
        "### Marking Rubric\n",
        "\n",
        "| Criteria                          | Unsatisfactory | Pass           | Credit         | Distinction     |\n",
        "|----------------------------------|----------------|----------------|----------------|-----------------|\n",
        "| **Task 1 – Correctness**         | 0 points       | 1 point        | 1.5 points     | 2 points        |\n",
        "| **Task 1 – Evaluation & Discussion** | 0 points   | 0.75 points    | 1 point        | 1.5 points      |\n",
        "| **Task 1 – Code Readability**    | 0 points       | 0.25 points    | 0.4 points     | 0.5 points      |\n",
        "| **Task 2 – Correctness**         | 0 points       | 1.5 points     | 2.5 points     | 3 points        |\n",
        "| **Task 2 – Evaluation & Analysis** | 0 points     | 1.25 points    | 2 points       | 2.5 points      |\n",
        "| **Task 2 – Code Readability**    | 0 points       | 0.25 points    | 0.4 points     | 0.5 points      |\n",
        "| **Task 3 – Correctness**         | 0 points       | 2.5 points     | 4 points       | 5 points        |\n",
        "| **Task 3 – Evaluation & Analysis** | 0 points     | 2.25 points    | 3.5 points     | 4.5 points      |\n",
        "| **Task 3 – Code Readability**    | 0 points       | 0.25 points    | 0.4 points     | 0.5 points      |\n"
      ]
    },
    {
      "cell_type": "markdown",
      "metadata": {
        "id": "pBuHLYX00pUs"
      },
      "source": [
        "### Assessment Criteria Description\n",
        "\n",
        "The following aspects will be considered when marking each task. The total score is based on the level of achievement across these dimensions.\n",
        "\n",
        "#### Correctness\n",
        "How well the main functionality and requirements of the task are implemented.\n",
        "\n",
        "- **Unsatisfactory** – Major components are missing or incorrect.\n",
        "- **Pass** – Some core components are correctly implemented.\n",
        "- **Credit** – Most components are correctly implemented with minor issues.\n",
        "- **Distinction** – All required components are correctly and completely implemented.\n",
        "\n",
        "#### Evaluation & Analysis (where applicable)\n",
        "The quality of evaluation metrics, observations, and insights into the model’s performance.\n",
        "\n",
        "- **Unsatisfactory** – Minimal or no evaluation and discussion.\n",
        "- **Pass** – Basic evaluation is provided, but analysis is shallow.\n",
        "- **Credit** – Good evaluation with meaningful discussion.\n",
        "- **Distinction** – In-depth, insightful analysis and thoughtful observations.\n",
        "\n",
        "#### Code Readability\n",
        "Clarity, structure, and quality of code writing style.\n",
        "\n",
        "- **Unsatisfactory** – Code is difficult to read, poorly structured, and lacks clarity (e.g., meaningless variable names, no comments).\n",
        "- **Pass** – Code is generally readable with some good practices.\n",
        "- **Credit** – Code is clearly readable and mostly well-structured.\n",
        "- **Distinction** – Code is clean, well-organized, and easy to follow; shows excellent style and best practices.\n"
      ]
    },
    {
      "cell_type": "code",
      "execution_count": null,
      "metadata": {
        "id": "rijR3OF9B6AX"
      },
      "outputs": [],
      "source": []
    }
  ],
  "metadata": {
    "colab": {
      "provenance": []
    },
    "kernelspec": {
      "display_name": ".venv",
      "language": "python",
      "name": "python3"
    },
    "language_info": {
      "codemirror_mode": {
        "name": "ipython",
        "version": 3
      },
      "file_extension": ".py",
      "mimetype": "text/x-python",
      "name": "python",
      "nbconvert_exporter": "python",
      "pygments_lexer": "ipython3",
      "version": "3.12.7"
    }
  },
  "nbformat": 4,
  "nbformat_minor": 0
}
